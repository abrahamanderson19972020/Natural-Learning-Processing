{
 "cells": [
  {
   "cell_type": "markdown",
   "id": "rapid-praise",
   "metadata": {
    "papermill": {
     "duration": 0.035014,
     "end_time": "2021-06-01T23:07:52.226361",
     "exception": false,
     "start_time": "2021-06-01T23:07:52.191347",
     "status": "completed"
    },
    "tags": []
   },
   "source": [
    "## 1. What is Natural Language Processing:"
   ]
  },
  {
   "cell_type": "markdown",
   "id": "russian-louis",
   "metadata": {
    "papermill": {
     "duration": 0.031603,
     "end_time": "2021-06-01T23:07:52.291553",
     "exception": false,
     "start_time": "2021-06-01T23:07:52.259950",
     "status": "completed"
    },
    "tags": []
   },
   "source": [
    "<font color=\"blue\">\n",
    "Natural Language Processing (or NLP) is applying Machine Learning models to text and language. Teaching machines to understand what is said in spoken and written word is the focus of Natural Language Processing. Whenever you dictate something into your iPhone / Android device that is then converted to text, that’s an NLP algorithm in action."
   ]
  },
  {
   "cell_type": "markdown",
   "id": "unlikely-tunnel",
   "metadata": {
    "papermill": {
     "duration": 0.031636,
     "end_time": "2021-06-01T23:07:52.355239",
     "exception": false,
     "start_time": "2021-06-01T23:07:52.323603",
     "status": "completed"
    },
    "tags": []
   },
   "source": [
    "The Application with NLP:"
   ]
  },
  {
   "cell_type": "markdown",
   "id": "molecular-layer",
   "metadata": {
    "papermill": {
     "duration": 0.031593,
     "end_time": "2021-06-01T23:07:52.418740",
     "exception": false,
     "start_time": "2021-06-01T23:07:52.387147",
     "status": "completed"
    },
    "tags": []
   },
   "source": [
    "<font color=\"blue\">\n",
    "You use NLP on a text review to predict if the review is a good one or a bad one. You can use NLP on an article to predict some categories of the articles you are trying to segment. You can use NLP on a book to predict the genre of the book. And it can go further, you can use NLP to build a machine translator or a speech recognition system, and in that last example you use classification algorithms to classify language."
   ]
  },
  {
   "cell_type": "markdown",
   "id": "approximate-tokyo",
   "metadata": {
    "papermill": {
     "duration": 0.031622,
     "end_time": "2021-06-01T23:07:52.482274",
     "exception": false,
     "start_time": "2021-06-01T23:07:52.450652",
     "status": "completed"
    },
    "tags": []
   },
   "source": [
    "## 2. Implementation of NLP:"
   ]
  },
  {
   "cell_type": "code",
   "execution_count": 1,
   "id": "monthly-ideal",
   "metadata": {
    "execution": {
     "iopub.execute_input": "2021-06-01T23:07:52.579624Z",
     "iopub.status.busy": "2021-06-01T23:07:52.578841Z",
     "iopub.status.idle": "2021-06-01T23:07:53.493059Z",
     "shell.execute_reply": "2021-06-01T23:07:53.490811Z",
     "shell.execute_reply.started": "2021-06-01T20:00:14.620263Z"
    },
    "papermill": {
     "duration": 0.972159,
     "end_time": "2021-06-01T23:07:53.493278",
     "exception": false,
     "start_time": "2021-06-01T23:07:52.521119",
     "status": "completed"
    },
    "tags": []
   },
   "outputs": [],
   "source": [
    "import pandas as pd\n",
    "import numpy as np\n",
    "import matplotlib.pyplot as plt\n",
    "import seaborn as sns"
   ]
  },
  {
   "cell_type": "code",
   "execution_count": 2,
   "id": "active-electron",
   "metadata": {
    "execution": {
     "iopub.execute_input": "2021-06-01T23:07:53.561418Z",
     "iopub.status.busy": "2021-06-01T23:07:53.560738Z",
     "iopub.status.idle": "2021-06-01T23:07:53.607486Z",
     "shell.execute_reply": "2021-06-01T23:07:53.608017Z",
     "shell.execute_reply.started": "2021-06-01T20:06:20.332317Z"
    },
    "papermill": {
     "duration": 0.082822,
     "end_time": "2021-06-01T23:07:53.608208",
     "exception": false,
     "start_time": "2021-06-01T23:07:53.525386",
     "status": "completed"
    },
    "tags": []
   },
   "outputs": [
    {
     "data": {
      "text/html": [
       "<div>\n",
       "<style scoped>\n",
       "    .dataframe tbody tr th:only-of-type {\n",
       "        vertical-align: middle;\n",
       "    }\n",
       "\n",
       "    .dataframe tbody tr th {\n",
       "        vertical-align: top;\n",
       "    }\n",
       "\n",
       "    .dataframe thead th {\n",
       "        text-align: right;\n",
       "    }\n",
       "</style>\n",
       "<table border=\"1\" class=\"dataframe\">\n",
       "  <thead>\n",
       "    <tr style=\"text-align: right;\">\n",
       "      <th></th>\n",
       "      <th>Review</th>\n",
       "      <th>Liked</th>\n",
       "    </tr>\n",
       "  </thead>\n",
       "  <tbody>\n",
       "    <tr>\n",
       "      <th>0</th>\n",
       "      <td>Wow... Loved this place.</td>\n",
       "      <td>1</td>\n",
       "    </tr>\n",
       "    <tr>\n",
       "      <th>1</th>\n",
       "      <td>Crust is not good.</td>\n",
       "      <td>0</td>\n",
       "    </tr>\n",
       "    <tr>\n",
       "      <th>2</th>\n",
       "      <td>Not tasty and the texture was just nasty.</td>\n",
       "      <td>0</td>\n",
       "    </tr>\n",
       "    <tr>\n",
       "      <th>3</th>\n",
       "      <td>Stopped by during the late May bank holiday of...</td>\n",
       "      <td>1</td>\n",
       "    </tr>\n",
       "    <tr>\n",
       "      <th>4</th>\n",
       "      <td>The selection on the menu was great and so wer...</td>\n",
       "      <td>1</td>\n",
       "    </tr>\n",
       "    <tr>\n",
       "      <th>5</th>\n",
       "      <td>Now I am getting angry and I want my damn pho.</td>\n",
       "      <td>0</td>\n",
       "    </tr>\n",
       "  </tbody>\n",
       "</table>\n",
       "</div>"
      ],
      "text/plain": [
       "                                              Review  Liked\n",
       "0                           Wow... Loved this place.      1\n",
       "1                                 Crust is not good.      0\n",
       "2          Not tasty and the texture was just nasty.      0\n",
       "3  Stopped by during the late May bank holiday of...      1\n",
       "4  The selection on the menu was great and so wer...      1\n",
       "5     Now I am getting angry and I want my damn pho.      0"
      ]
     },
     "execution_count": 2,
     "metadata": {},
     "output_type": "execute_result"
    }
   ],
   "source": [
    "df = pd.read_csv(\"../input/reviews/Restaurant_Reviews.tsv\",delimiter=\"\\t\",quoting=3)\n",
    "# we use delimiter=\"\\t\" in order to read tab separated data\n",
    "# we use quoting=3 because there a lot of quotes that can confuse nlp algprithm\n",
    "df.head(6)"
   ]
  },
  {
   "cell_type": "markdown",
   "id": "varying-integrity",
   "metadata": {
    "papermill": {
     "duration": 0.032861,
     "end_time": "2021-06-01T23:07:53.674269",
     "exception": false,
     "start_time": "2021-06-01T23:07:53.641408",
     "status": "completed"
    },
    "tags": []
   },
   "source": [
    "## 2.1. Exploring the Data:"
   ]
  },
  {
   "cell_type": "code",
   "execution_count": 3,
   "id": "dedicated-characteristic",
   "metadata": {
    "execution": {
     "iopub.execute_input": "2021-06-01T23:07:53.750973Z",
     "iopub.status.busy": "2021-06-01T23:07:53.750237Z",
     "iopub.status.idle": "2021-06-01T23:07:53.784096Z",
     "shell.execute_reply": "2021-06-01T23:07:53.783373Z",
     "shell.execute_reply.started": "2021-06-01T20:11:21.420221Z"
    },
    "papermill": {
     "duration": 0.076081,
     "end_time": "2021-06-01T23:07:53.784244",
     "exception": false,
     "start_time": "2021-06-01T23:07:53.708163",
     "status": "completed"
    },
    "tags": []
   },
   "outputs": [
    {
     "data": {
      "text/html": [
       "<div>\n",
       "<style scoped>\n",
       "    .dataframe tbody tr th:only-of-type {\n",
       "        vertical-align: middle;\n",
       "    }\n",
       "\n",
       "    .dataframe tbody tr th {\n",
       "        vertical-align: top;\n",
       "    }\n",
       "\n",
       "    .dataframe thead th {\n",
       "        text-align: right;\n",
       "    }\n",
       "</style>\n",
       "<table border=\"1\" class=\"dataframe\">\n",
       "  <thead>\n",
       "    <tr style=\"text-align: right;\">\n",
       "      <th></th>\n",
       "      <th>Review</th>\n",
       "      <th>Liked</th>\n",
       "    </tr>\n",
       "  </thead>\n",
       "  <tbody>\n",
       "    <tr>\n",
       "      <th>count</th>\n",
       "      <td>1000</td>\n",
       "      <td>1000.00000</td>\n",
       "    </tr>\n",
       "    <tr>\n",
       "      <th>unique</th>\n",
       "      <td>996</td>\n",
       "      <td>NaN</td>\n",
       "    </tr>\n",
       "    <tr>\n",
       "      <th>top</th>\n",
       "      <td>The food was terrible.</td>\n",
       "      <td>NaN</td>\n",
       "    </tr>\n",
       "    <tr>\n",
       "      <th>freq</th>\n",
       "      <td>2</td>\n",
       "      <td>NaN</td>\n",
       "    </tr>\n",
       "    <tr>\n",
       "      <th>mean</th>\n",
       "      <td>NaN</td>\n",
       "      <td>0.50000</td>\n",
       "    </tr>\n",
       "    <tr>\n",
       "      <th>std</th>\n",
       "      <td>NaN</td>\n",
       "      <td>0.50025</td>\n",
       "    </tr>\n",
       "    <tr>\n",
       "      <th>min</th>\n",
       "      <td>NaN</td>\n",
       "      <td>0.00000</td>\n",
       "    </tr>\n",
       "    <tr>\n",
       "      <th>25%</th>\n",
       "      <td>NaN</td>\n",
       "      <td>0.00000</td>\n",
       "    </tr>\n",
       "    <tr>\n",
       "      <th>50%</th>\n",
       "      <td>NaN</td>\n",
       "      <td>0.50000</td>\n",
       "    </tr>\n",
       "    <tr>\n",
       "      <th>75%</th>\n",
       "      <td>NaN</td>\n",
       "      <td>1.00000</td>\n",
       "    </tr>\n",
       "    <tr>\n",
       "      <th>max</th>\n",
       "      <td>NaN</td>\n",
       "      <td>1.00000</td>\n",
       "    </tr>\n",
       "  </tbody>\n",
       "</table>\n",
       "</div>"
      ],
      "text/plain": [
       "                        Review       Liked\n",
       "count                     1000  1000.00000\n",
       "unique                     996         NaN\n",
       "top     The food was terrible.         NaN\n",
       "freq                         2         NaN\n",
       "mean                       NaN     0.50000\n",
       "std                        NaN     0.50025\n",
       "min                        NaN     0.00000\n",
       "25%                        NaN     0.00000\n",
       "50%                        NaN     0.50000\n",
       "75%                        NaN     1.00000\n",
       "max                        NaN     1.00000"
      ]
     },
     "execution_count": 3,
     "metadata": {},
     "output_type": "execute_result"
    }
   ],
   "source": [
    "df.describe(include=\"all\")"
   ]
  },
  {
   "cell_type": "code",
   "execution_count": 4,
   "id": "south-reading",
   "metadata": {
    "execution": {
     "iopub.execute_input": "2021-06-01T23:07:53.861387Z",
     "iopub.status.busy": "2021-06-01T23:07:53.857321Z",
     "iopub.status.idle": "2021-06-01T23:07:53.890310Z",
     "shell.execute_reply": "2021-06-01T23:07:53.889643Z",
     "shell.execute_reply.started": "2021-06-01T20:12:39.521241Z"
    },
    "papermill": {
     "duration": 0.072142,
     "end_time": "2021-06-01T23:07:53.890456",
     "exception": false,
     "start_time": "2021-06-01T23:07:53.818314",
     "status": "completed"
    },
    "tags": []
   },
   "outputs": [
    {
     "data": {
      "text/html": [
       "<div>\n",
       "<style scoped>\n",
       "    .dataframe tbody tr th:only-of-type {\n",
       "        vertical-align: middle;\n",
       "    }\n",
       "\n",
       "    .dataframe tbody tr th {\n",
       "        vertical-align: top;\n",
       "    }\n",
       "\n",
       "    .dataframe thead tr th {\n",
       "        text-align: left;\n",
       "    }\n",
       "\n",
       "    .dataframe thead tr:last-of-type th {\n",
       "        text-align: right;\n",
       "    }\n",
       "</style>\n",
       "<table border=\"1\" class=\"dataframe\">\n",
       "  <thead>\n",
       "    <tr>\n",
       "      <th></th>\n",
       "      <th colspan=\"4\" halign=\"left\">Review</th>\n",
       "    </tr>\n",
       "    <tr>\n",
       "      <th></th>\n",
       "      <th>count</th>\n",
       "      <th>unique</th>\n",
       "      <th>top</th>\n",
       "      <th>freq</th>\n",
       "    </tr>\n",
       "    <tr>\n",
       "      <th>Liked</th>\n",
       "      <th></th>\n",
       "      <th></th>\n",
       "      <th></th>\n",
       "      <th></th>\n",
       "    </tr>\n",
       "  </thead>\n",
       "  <tbody>\n",
       "    <tr>\n",
       "      <th>0</th>\n",
       "      <td>500</td>\n",
       "      <td>497</td>\n",
       "      <td>The food was terrible.</td>\n",
       "      <td>2</td>\n",
       "    </tr>\n",
       "    <tr>\n",
       "      <th>1</th>\n",
       "      <td>500</td>\n",
       "      <td>499</td>\n",
       "      <td>I love this place.</td>\n",
       "      <td>2</td>\n",
       "    </tr>\n",
       "  </tbody>\n",
       "</table>\n",
       "</div>"
      ],
      "text/plain": [
       "      Review                                    \n",
       "       count unique                     top freq\n",
       "Liked                                           \n",
       "0        500    497  The food was terrible.    2\n",
       "1        500    499      I love this place.    2"
      ]
     },
     "execution_count": 4,
     "metadata": {},
     "output_type": "execute_result"
    }
   ],
   "source": [
    "df.groupby(\"Liked\").describe() # Our data is equally distributed between liked and disliked"
   ]
  },
  {
   "cell_type": "code",
   "execution_count": 5,
   "id": "voluntary-building",
   "metadata": {
    "execution": {
     "iopub.execute_input": "2021-06-01T23:07:53.961963Z",
     "iopub.status.busy": "2021-06-01T23:07:53.960935Z",
     "iopub.status.idle": "2021-06-01T23:07:53.978438Z",
     "shell.execute_reply": "2021-06-01T23:07:53.977729Z",
     "shell.execute_reply.started": "2021-06-01T20:14:46.299522Z"
    },
    "papermill": {
     "duration": 0.053869,
     "end_time": "2021-06-01T23:07:53.978585",
     "exception": false,
     "start_time": "2021-06-01T23:07:53.924716",
     "status": "completed"
    },
    "tags": []
   },
   "outputs": [
    {
     "data": {
      "text/html": [
       "<div>\n",
       "<style scoped>\n",
       "    .dataframe tbody tr th:only-of-type {\n",
       "        vertical-align: middle;\n",
       "    }\n",
       "\n",
       "    .dataframe tbody tr th {\n",
       "        vertical-align: top;\n",
       "    }\n",
       "\n",
       "    .dataframe thead th {\n",
       "        text-align: right;\n",
       "    }\n",
       "</style>\n",
       "<table border=\"1\" class=\"dataframe\">\n",
       "  <thead>\n",
       "    <tr style=\"text-align: right;\">\n",
       "      <th></th>\n",
       "      <th>Review</th>\n",
       "      <th>Liked</th>\n",
       "      <th>Length</th>\n",
       "    </tr>\n",
       "  </thead>\n",
       "  <tbody>\n",
       "    <tr>\n",
       "      <th>0</th>\n",
       "      <td>Wow... Loved this place.</td>\n",
       "      <td>1</td>\n",
       "      <td>24</td>\n",
       "    </tr>\n",
       "    <tr>\n",
       "      <th>1</th>\n",
       "      <td>Crust is not good.</td>\n",
       "      <td>0</td>\n",
       "      <td>18</td>\n",
       "    </tr>\n",
       "    <tr>\n",
       "      <th>2</th>\n",
       "      <td>Not tasty and the texture was just nasty.</td>\n",
       "      <td>0</td>\n",
       "      <td>41</td>\n",
       "    </tr>\n",
       "    <tr>\n",
       "      <th>3</th>\n",
       "      <td>Stopped by during the late May bank holiday of...</td>\n",
       "      <td>1</td>\n",
       "      <td>87</td>\n",
       "    </tr>\n",
       "    <tr>\n",
       "      <th>4</th>\n",
       "      <td>The selection on the menu was great and so wer...</td>\n",
       "      <td>1</td>\n",
       "      <td>59</td>\n",
       "    </tr>\n",
       "    <tr>\n",
       "      <th>...</th>\n",
       "      <td>...</td>\n",
       "      <td>...</td>\n",
       "      <td>...</td>\n",
       "    </tr>\n",
       "    <tr>\n",
       "      <th>995</th>\n",
       "      <td>I think food should have flavor and texture an...</td>\n",
       "      <td>0</td>\n",
       "      <td>66</td>\n",
       "    </tr>\n",
       "    <tr>\n",
       "      <th>996</th>\n",
       "      <td>Appetite instantly gone.</td>\n",
       "      <td>0</td>\n",
       "      <td>24</td>\n",
       "    </tr>\n",
       "    <tr>\n",
       "      <th>997</th>\n",
       "      <td>Overall I was not impressed and would not go b...</td>\n",
       "      <td>0</td>\n",
       "      <td>50</td>\n",
       "    </tr>\n",
       "    <tr>\n",
       "      <th>998</th>\n",
       "      <td>The whole experience was underwhelming, and I ...</td>\n",
       "      <td>0</td>\n",
       "      <td>91</td>\n",
       "    </tr>\n",
       "    <tr>\n",
       "      <th>999</th>\n",
       "      <td>Then, as if I hadn't wasted enough of my life ...</td>\n",
       "      <td>0</td>\n",
       "      <td>134</td>\n",
       "    </tr>\n",
       "  </tbody>\n",
       "</table>\n",
       "<p>1000 rows × 3 columns</p>\n",
       "</div>"
      ],
      "text/plain": [
       "                                                Review  Liked  Length\n",
       "0                             Wow... Loved this place.      1      24\n",
       "1                                   Crust is not good.      0      18\n",
       "2            Not tasty and the texture was just nasty.      0      41\n",
       "3    Stopped by during the late May bank holiday of...      1      87\n",
       "4    The selection on the menu was great and so wer...      1      59\n",
       "..                                                 ...    ...     ...\n",
       "995  I think food should have flavor and texture an...      0      66\n",
       "996                           Appetite instantly gone.      0      24\n",
       "997  Overall I was not impressed and would not go b...      0      50\n",
       "998  The whole experience was underwhelming, and I ...      0      91\n",
       "999  Then, as if I hadn't wasted enough of my life ...      0     134\n",
       "\n",
       "[1000 rows x 3 columns]"
      ]
     },
     "execution_count": 5,
     "metadata": {},
     "output_type": "execute_result"
    }
   ],
   "source": [
    "df[\"Length\"]= df[\"Review\"].apply(len) # Here we get the length of each review\n",
    "df"
   ]
  },
  {
   "cell_type": "code",
   "execution_count": 6,
   "id": "unique-error",
   "metadata": {
    "execution": {
     "iopub.execute_input": "2021-06-01T23:07:54.053736Z",
     "iopub.status.busy": "2021-06-01T23:07:54.052918Z",
     "iopub.status.idle": "2021-06-01T23:07:57.808159Z",
     "shell.execute_reply": "2021-06-01T23:07:57.808727Z",
     "shell.execute_reply.started": "2021-06-01T20:18:46.329612Z"
    },
    "papermill": {
     "duration": 3.795503,
     "end_time": "2021-06-01T23:07:57.808921",
     "exception": false,
     "start_time": "2021-06-01T23:07:54.013418",
     "status": "completed"
    },
    "tags": []
   },
   "outputs": [
    {
     "data": {
      "text/html": [
       "        <script type=\"text/javascript\">\n",
       "        window.PlotlyConfig = {MathJaxConfig: 'local'};\n",
       "        if (window.MathJax) {MathJax.Hub.Config({SVG: {font: \"STIX-Web\"}});}\n",
       "        if (typeof require !== 'undefined') {\n",
       "        require.undef(\"plotly\");\n",
       "        requirejs.config({\n",
       "            paths: {\n",
       "                'plotly': ['https://cdn.plot.ly/plotly-latest.min']\n",
       "            }\n",
       "        });\n",
       "        require(['plotly'], function(Plotly) {\n",
       "            window._Plotly = Plotly;\n",
       "        });\n",
       "        }\n",
       "        </script>\n",
       "        "
      ]
     },
     "metadata": {},
     "output_type": "display_data"
    },
    {
     "data": {
      "application/vnd.plotly.v1+json": {
       "config": {
        "linkText": "Export to plot.ly",
        "plotlyServerURL": "https://plot.ly",
        "showLink": true
       },
       "data": [
        {
         "histfunc": "count",
         "histnorm": "",
         "marker": {
          "color": "rgba(255, 153, 51, 1.0)",
          "line": {
           "color": "#4D5663",
           "width": 1.3
          }
         },
         "name": "Length",
         "opacity": 0.8,
         "orientation": "v",
         "type": "histogram",
         "x": [
          24,
          18,
          41,
          87,
          59,
          46,
          37,
          111,
          25,
          14,
          24,
          18,
          99,
          60,
          62,
          50,
          19,
          38,
          51,
          20,
          19,
          18,
          21,
          52,
          18,
          67,
          42,
          73,
          141,
          33,
          83,
          29,
          58,
          115,
          33,
          78,
          31,
          88,
          37,
          14,
          28,
          81,
          147,
          77,
          75,
          64,
          41,
          43,
          52,
          102,
          98,
          90,
          27,
          112,
          21,
          72,
          93,
          59,
          103,
          67,
          84,
          49,
          45,
          35,
          35,
          72,
          35,
          71,
          98,
          30,
          91,
          41,
          20,
          87,
          128,
          54,
          37,
          56,
          80,
          119,
          133,
          87,
          37,
          18,
          110,
          64,
          73,
          44,
          23,
          35,
          63,
          117,
          80,
          24,
          29,
          21,
          19,
          21,
          16,
          51,
          146,
          90,
          54,
          113,
          54,
          55,
          91,
          53,
          27,
          13,
          59,
          92,
          77,
          23,
          12,
          13,
          20,
          27,
          45,
          107,
          126,
          62,
          47,
          140,
          111,
          52,
          131,
          38,
          18,
          96,
          51,
          22,
          139,
          23,
          81,
          105,
          39,
          48,
          120,
          72,
          15,
          63,
          85,
          72,
          87,
          63,
          84,
          119,
          23,
          77,
          88,
          47,
          41,
          44,
          44,
          52,
          109,
          126,
          19,
          99,
          63,
          25,
          45,
          18,
          43,
          11,
          81,
          53,
          31,
          21,
          114,
          121,
          33,
          72,
          127,
          100,
          44,
          72,
          81,
          75,
          132,
          114,
          37,
          21,
          99,
          69,
          82,
          18,
          46,
          120,
          49,
          37,
          52,
          94,
          99,
          45,
          40,
          51,
          20,
          22,
          94,
          38,
          26,
          18,
          33,
          21,
          100,
          26,
          42,
          80,
          139,
          106,
          34,
          14,
          16,
          25,
          19,
          35,
          40,
          40,
          127,
          30,
          118,
          89,
          54,
          32,
          32,
          61,
          36,
          60,
          84,
          102,
          19,
          111,
          109,
          60,
          142,
          121,
          98,
          65,
          43,
          35,
          80,
          61,
          78,
          58,
          36,
          63,
          49,
          116,
          33,
          55,
          49,
          146,
          62,
          54,
          23,
          59,
          32,
          36,
          32,
          97,
          40,
          51,
          46,
          24,
          38,
          82,
          51,
          61,
          45,
          44,
          20,
          82,
          43,
          81,
          50,
          59,
          17,
          80,
          77,
          20,
          20,
          64,
          60,
          23,
          51,
          86,
          22,
          101,
          94,
          38,
          83,
          106,
          51,
          50,
          132,
          58,
          43,
          49,
          52,
          52,
          118,
          23,
          19,
          60,
          25,
          95,
          77,
          36,
          15,
          61,
          23,
          17,
          68,
          42,
          132,
          101,
          100,
          31,
          33,
          66,
          63,
          61,
          46,
          49,
          26,
          116,
          115,
          90,
          88,
          73,
          61,
          21,
          18,
          23,
          105,
          82,
          28,
          44,
          44,
          63,
          68,
          34,
          75,
          31,
          40,
          87,
          37,
          71,
          56,
          16,
          36,
          47,
          19,
          83,
          93,
          59,
          35,
          47,
          60,
          87,
          24,
          82,
          54,
          64,
          55,
          62,
          43,
          20,
          61,
          32,
          66,
          106,
          45,
          27,
          41,
          54,
          32,
          126,
          16,
          24,
          64,
          22,
          68,
          82,
          46,
          61,
          19,
          33,
          60,
          124,
          85,
          73,
          135,
          147,
          70,
          83,
          60,
          52,
          36,
          69,
          61,
          93,
          119,
          21,
          33,
          47,
          22,
          20,
          61,
          37,
          34,
          48,
          51,
          58,
          37,
          29,
          61,
          146,
          95,
          124,
          67,
          80,
          24,
          14,
          76,
          18,
          33,
          61,
          19,
          24,
          30,
          79,
          24,
          73,
          37,
          58,
          29,
          37,
          47,
          20,
          59,
          16,
          74,
          75,
          17,
          20,
          101,
          67,
          47,
          19,
          138,
          18,
          47,
          70,
          116,
          32,
          33,
          19,
          35,
          98,
          47,
          26,
          47,
          61,
          68,
          146,
          25,
          66,
          18,
          62,
          20,
          27,
          90,
          49,
          32,
          58,
          92,
          11,
          80,
          110,
          100,
          39,
          40,
          74,
          116,
          49,
          65,
          20,
          31,
          57,
          93,
          31,
          52,
          24,
          58,
          60,
          67,
          29,
          121,
          39,
          45,
          28,
          41,
          33,
          42,
          35,
          17,
          24,
          88,
          41,
          45,
          23,
          44,
          48,
          28,
          82,
          44,
          82,
          51,
          32,
          25,
          44,
          27,
          92,
          28,
          107,
          55,
          28,
          30,
          38,
          68,
          137,
          20,
          56,
          52,
          55,
          19,
          66,
          58,
          115,
          54,
          48,
          71,
          37,
          82,
          46,
          32,
          148,
          73,
          14,
          39,
          61,
          74,
          81,
          25,
          60,
          39,
          21,
          70,
          28,
          12,
          94,
          34,
          88,
          93,
          19,
          21,
          22,
          47,
          82,
          29,
          62,
          55,
          52,
          58,
          44,
          47,
          93,
          26,
          11,
          51,
          34,
          83,
          61,
          42,
          58,
          126,
          28,
          34,
          75,
          60,
          47,
          63,
          56,
          45,
          47,
          98,
          23,
          48,
          129,
          45,
          38,
          40,
          17,
          15,
          23,
          90,
          33,
          120,
          66,
          90,
          59,
          23,
          43,
          39,
          78,
          52,
          18,
          47,
          21,
          72,
          147,
          21,
          20,
          73,
          64,
          119,
          114,
          101,
          43,
          50,
          49,
          39,
          36,
          49,
          131,
          75,
          21,
          36,
          20,
          57,
          64,
          53,
          20,
          15,
          25,
          11,
          36,
          54,
          57,
          76,
          53,
          39,
          31,
          42,
          81,
          33,
          84,
          114,
          50,
          57,
          11,
          19,
          94,
          29,
          98,
          83,
          54,
          13,
          32,
          47,
          33,
          25,
          32,
          24,
          46,
          45,
          35,
          54,
          58,
          33,
          34,
          16,
          18,
          110,
          62,
          86,
          26,
          26,
          39,
          24,
          83,
          114,
          34,
          122,
          16,
          50,
          102,
          73,
          43,
          60,
          71,
          61,
          107,
          27,
          30,
          66,
          88,
          59,
          13,
          13,
          46,
          62,
          118,
          35,
          52,
          29,
          124,
          29,
          108,
          54,
          93,
          26,
          31,
          138,
          43,
          40,
          42,
          104,
          75,
          47,
          43,
          107,
          54,
          49,
          83,
          57,
          42,
          68,
          22,
          107,
          67,
          17,
          90,
          57,
          104,
          96,
          76,
          61,
          70,
          66,
          71,
          85,
          80,
          73,
          29,
          33,
          42,
          50,
          49,
          57,
          31,
          27,
          17,
          75,
          22,
          78,
          69,
          54,
          45,
          76,
          41,
          44,
          56,
          41,
          97,
          34,
          31,
          36,
          47,
          84,
          71,
          56,
          27,
          27,
          89,
          115,
          44,
          87,
          32,
          134,
          45,
          100,
          146,
          63,
          33,
          14,
          55,
          16,
          31,
          50,
          36,
          38,
          132,
          50,
          119,
          67,
          106,
          109,
          32,
          86,
          15,
          18,
          39,
          22,
          47,
          59,
          39,
          42,
          29,
          115,
          42,
          14,
          25,
          31,
          72,
          33,
          83,
          49,
          18,
          92,
          87,
          20,
          77,
          47,
          127,
          54,
          67,
          49,
          33,
          76,
          16,
          48,
          29,
          33,
          74,
          92,
          139,
          47,
          35,
          53,
          49,
          99,
          69,
          44,
          115,
          37,
          39,
          62,
          60,
          147,
          35,
          35,
          98,
          80,
          48,
          71,
          116,
          77,
          57,
          104,
          77,
          23,
          26,
          46,
          22,
          60,
          92,
          50,
          44,
          32,
          100,
          133,
          49,
          31,
          37,
          32,
          122,
          68,
          62,
          49,
          16,
          63,
          68,
          30,
          37,
          49,
          28,
          27,
          97,
          55,
          32,
          26,
          58,
          61,
          55,
          22,
          37,
          145,
          15,
          93,
          94,
          47,
          86,
          74,
          40,
          81,
          121,
          52,
          25,
          70,
          33,
          70,
          85,
          49,
          68,
          112,
          25,
          72,
          101,
          48,
          23,
          63,
          25,
          72,
          25,
          66,
          100,
          21,
          35,
          43,
          43,
          69,
          90,
          67,
          25,
          42,
          96,
          42,
          118,
          111,
          20,
          50,
          29,
          46,
          39,
          89,
          120,
          107,
          114,
          78,
          82,
          59,
          41,
          20,
          22,
          122,
          81,
          136,
          31,
          70,
          21,
          62,
          45,
          75,
          36,
          36,
          80,
          113,
          88,
          23,
          105,
          44,
          149,
          94,
          46,
          58,
          58,
          90,
          42,
          75,
          39,
          40,
          66,
          24,
          50,
          91,
          134
         ]
        }
       ],
       "layout": {
        "barmode": "overlay",
        "legend": {
         "bgcolor": "#F5F6F9",
         "font": {
          "color": "#4D5663"
         }
        },
        "paper_bgcolor": "#F5F6F9",
        "plot_bgcolor": "#F5F6F9",
        "template": {
         "data": {
          "bar": [
           {
            "error_x": {
             "color": "#2a3f5f"
            },
            "error_y": {
             "color": "#2a3f5f"
            },
            "marker": {
             "line": {
              "color": "#E5ECF6",
              "width": 0.5
             }
            },
            "type": "bar"
           }
          ],
          "barpolar": [
           {
            "marker": {
             "line": {
              "color": "#E5ECF6",
              "width": 0.5
             }
            },
            "type": "barpolar"
           }
          ],
          "carpet": [
           {
            "aaxis": {
             "endlinecolor": "#2a3f5f",
             "gridcolor": "white",
             "linecolor": "white",
             "minorgridcolor": "white",
             "startlinecolor": "#2a3f5f"
            },
            "baxis": {
             "endlinecolor": "#2a3f5f",
             "gridcolor": "white",
             "linecolor": "white",
             "minorgridcolor": "white",
             "startlinecolor": "#2a3f5f"
            },
            "type": "carpet"
           }
          ],
          "choropleth": [
           {
            "colorbar": {
             "outlinewidth": 0,
             "ticks": ""
            },
            "type": "choropleth"
           }
          ],
          "contour": [
           {
            "colorbar": {
             "outlinewidth": 0,
             "ticks": ""
            },
            "colorscale": [
             [
              0.0,
              "#0d0887"
             ],
             [
              0.1111111111111111,
              "#46039f"
             ],
             [
              0.2222222222222222,
              "#7201a8"
             ],
             [
              0.3333333333333333,
              "#9c179e"
             ],
             [
              0.4444444444444444,
              "#bd3786"
             ],
             [
              0.5555555555555556,
              "#d8576b"
             ],
             [
              0.6666666666666666,
              "#ed7953"
             ],
             [
              0.7777777777777778,
              "#fb9f3a"
             ],
             [
              0.8888888888888888,
              "#fdca26"
             ],
             [
              1.0,
              "#f0f921"
             ]
            ],
            "type": "contour"
           }
          ],
          "contourcarpet": [
           {
            "colorbar": {
             "outlinewidth": 0,
             "ticks": ""
            },
            "type": "contourcarpet"
           }
          ],
          "heatmap": [
           {
            "colorbar": {
             "outlinewidth": 0,
             "ticks": ""
            },
            "colorscale": [
             [
              0.0,
              "#0d0887"
             ],
             [
              0.1111111111111111,
              "#46039f"
             ],
             [
              0.2222222222222222,
              "#7201a8"
             ],
             [
              0.3333333333333333,
              "#9c179e"
             ],
             [
              0.4444444444444444,
              "#bd3786"
             ],
             [
              0.5555555555555556,
              "#d8576b"
             ],
             [
              0.6666666666666666,
              "#ed7953"
             ],
             [
              0.7777777777777778,
              "#fb9f3a"
             ],
             [
              0.8888888888888888,
              "#fdca26"
             ],
             [
              1.0,
              "#f0f921"
             ]
            ],
            "type": "heatmap"
           }
          ],
          "heatmapgl": [
           {
            "colorbar": {
             "outlinewidth": 0,
             "ticks": ""
            },
            "colorscale": [
             [
              0.0,
              "#0d0887"
             ],
             [
              0.1111111111111111,
              "#46039f"
             ],
             [
              0.2222222222222222,
              "#7201a8"
             ],
             [
              0.3333333333333333,
              "#9c179e"
             ],
             [
              0.4444444444444444,
              "#bd3786"
             ],
             [
              0.5555555555555556,
              "#d8576b"
             ],
             [
              0.6666666666666666,
              "#ed7953"
             ],
             [
              0.7777777777777778,
              "#fb9f3a"
             ],
             [
              0.8888888888888888,
              "#fdca26"
             ],
             [
              1.0,
              "#f0f921"
             ]
            ],
            "type": "heatmapgl"
           }
          ],
          "histogram": [
           {
            "marker": {
             "colorbar": {
              "outlinewidth": 0,
              "ticks": ""
             }
            },
            "type": "histogram"
           }
          ],
          "histogram2d": [
           {
            "colorbar": {
             "outlinewidth": 0,
             "ticks": ""
            },
            "colorscale": [
             [
              0.0,
              "#0d0887"
             ],
             [
              0.1111111111111111,
              "#46039f"
             ],
             [
              0.2222222222222222,
              "#7201a8"
             ],
             [
              0.3333333333333333,
              "#9c179e"
             ],
             [
              0.4444444444444444,
              "#bd3786"
             ],
             [
              0.5555555555555556,
              "#d8576b"
             ],
             [
              0.6666666666666666,
              "#ed7953"
             ],
             [
              0.7777777777777778,
              "#fb9f3a"
             ],
             [
              0.8888888888888888,
              "#fdca26"
             ],
             [
              1.0,
              "#f0f921"
             ]
            ],
            "type": "histogram2d"
           }
          ],
          "histogram2dcontour": [
           {
            "colorbar": {
             "outlinewidth": 0,
             "ticks": ""
            },
            "colorscale": [
             [
              0.0,
              "#0d0887"
             ],
             [
              0.1111111111111111,
              "#46039f"
             ],
             [
              0.2222222222222222,
              "#7201a8"
             ],
             [
              0.3333333333333333,
              "#9c179e"
             ],
             [
              0.4444444444444444,
              "#bd3786"
             ],
             [
              0.5555555555555556,
              "#d8576b"
             ],
             [
              0.6666666666666666,
              "#ed7953"
             ],
             [
              0.7777777777777778,
              "#fb9f3a"
             ],
             [
              0.8888888888888888,
              "#fdca26"
             ],
             [
              1.0,
              "#f0f921"
             ]
            ],
            "type": "histogram2dcontour"
           }
          ],
          "mesh3d": [
           {
            "colorbar": {
             "outlinewidth": 0,
             "ticks": ""
            },
            "type": "mesh3d"
           }
          ],
          "parcoords": [
           {
            "line": {
             "colorbar": {
              "outlinewidth": 0,
              "ticks": ""
             }
            },
            "type": "parcoords"
           }
          ],
          "pie": [
           {
            "automargin": true,
            "type": "pie"
           }
          ],
          "scatter": [
           {
            "marker": {
             "colorbar": {
              "outlinewidth": 0,
              "ticks": ""
             }
            },
            "type": "scatter"
           }
          ],
          "scatter3d": [
           {
            "line": {
             "colorbar": {
              "outlinewidth": 0,
              "ticks": ""
             }
            },
            "marker": {
             "colorbar": {
              "outlinewidth": 0,
              "ticks": ""
             }
            },
            "type": "scatter3d"
           }
          ],
          "scattercarpet": [
           {
            "marker": {
             "colorbar": {
              "outlinewidth": 0,
              "ticks": ""
             }
            },
            "type": "scattercarpet"
           }
          ],
          "scattergeo": [
           {
            "marker": {
             "colorbar": {
              "outlinewidth": 0,
              "ticks": ""
             }
            },
            "type": "scattergeo"
           }
          ],
          "scattergl": [
           {
            "marker": {
             "colorbar": {
              "outlinewidth": 0,
              "ticks": ""
             }
            },
            "type": "scattergl"
           }
          ],
          "scattermapbox": [
           {
            "marker": {
             "colorbar": {
              "outlinewidth": 0,
              "ticks": ""
             }
            },
            "type": "scattermapbox"
           }
          ],
          "scatterpolar": [
           {
            "marker": {
             "colorbar": {
              "outlinewidth": 0,
              "ticks": ""
             }
            },
            "type": "scatterpolar"
           }
          ],
          "scatterpolargl": [
           {
            "marker": {
             "colorbar": {
              "outlinewidth": 0,
              "ticks": ""
             }
            },
            "type": "scatterpolargl"
           }
          ],
          "scatterternary": [
           {
            "marker": {
             "colorbar": {
              "outlinewidth": 0,
              "ticks": ""
             }
            },
            "type": "scatterternary"
           }
          ],
          "surface": [
           {
            "colorbar": {
             "outlinewidth": 0,
             "ticks": ""
            },
            "colorscale": [
             [
              0.0,
              "#0d0887"
             ],
             [
              0.1111111111111111,
              "#46039f"
             ],
             [
              0.2222222222222222,
              "#7201a8"
             ],
             [
              0.3333333333333333,
              "#9c179e"
             ],
             [
              0.4444444444444444,
              "#bd3786"
             ],
             [
              0.5555555555555556,
              "#d8576b"
             ],
             [
              0.6666666666666666,
              "#ed7953"
             ],
             [
              0.7777777777777778,
              "#fb9f3a"
             ],
             [
              0.8888888888888888,
              "#fdca26"
             ],
             [
              1.0,
              "#f0f921"
             ]
            ],
            "type": "surface"
           }
          ],
          "table": [
           {
            "cells": {
             "fill": {
              "color": "#EBF0F8"
             },
             "line": {
              "color": "white"
             }
            },
            "header": {
             "fill": {
              "color": "#C8D4E3"
             },
             "line": {
              "color": "white"
             }
            },
            "type": "table"
           }
          ]
         },
         "layout": {
          "annotationdefaults": {
           "arrowcolor": "#2a3f5f",
           "arrowhead": 0,
           "arrowwidth": 1
          },
          "autotypenumbers": "strict",
          "coloraxis": {
           "colorbar": {
            "outlinewidth": 0,
            "ticks": ""
           }
          },
          "colorscale": {
           "diverging": [
            [
             0,
             "#8e0152"
            ],
            [
             0.1,
             "#c51b7d"
            ],
            [
             0.2,
             "#de77ae"
            ],
            [
             0.3,
             "#f1b6da"
            ],
            [
             0.4,
             "#fde0ef"
            ],
            [
             0.5,
             "#f7f7f7"
            ],
            [
             0.6,
             "#e6f5d0"
            ],
            [
             0.7,
             "#b8e186"
            ],
            [
             0.8,
             "#7fbc41"
            ],
            [
             0.9,
             "#4d9221"
            ],
            [
             1,
             "#276419"
            ]
           ],
           "sequential": [
            [
             0.0,
             "#0d0887"
            ],
            [
             0.1111111111111111,
             "#46039f"
            ],
            [
             0.2222222222222222,
             "#7201a8"
            ],
            [
             0.3333333333333333,
             "#9c179e"
            ],
            [
             0.4444444444444444,
             "#bd3786"
            ],
            [
             0.5555555555555556,
             "#d8576b"
            ],
            [
             0.6666666666666666,
             "#ed7953"
            ],
            [
             0.7777777777777778,
             "#fb9f3a"
            ],
            [
             0.8888888888888888,
             "#fdca26"
            ],
            [
             1.0,
             "#f0f921"
            ]
           ],
           "sequentialminus": [
            [
             0.0,
             "#0d0887"
            ],
            [
             0.1111111111111111,
             "#46039f"
            ],
            [
             0.2222222222222222,
             "#7201a8"
            ],
            [
             0.3333333333333333,
             "#9c179e"
            ],
            [
             0.4444444444444444,
             "#bd3786"
            ],
            [
             0.5555555555555556,
             "#d8576b"
            ],
            [
             0.6666666666666666,
             "#ed7953"
            ],
            [
             0.7777777777777778,
             "#fb9f3a"
            ],
            [
             0.8888888888888888,
             "#fdca26"
            ],
            [
             1.0,
             "#f0f921"
            ]
           ]
          },
          "colorway": [
           "#636efa",
           "#EF553B",
           "#00cc96",
           "#ab63fa",
           "#FFA15A",
           "#19d3f3",
           "#FF6692",
           "#B6E880",
           "#FF97FF",
           "#FECB52"
          ],
          "font": {
           "color": "#2a3f5f"
          },
          "geo": {
           "bgcolor": "white",
           "lakecolor": "white",
           "landcolor": "#E5ECF6",
           "showlakes": true,
           "showland": true,
           "subunitcolor": "white"
          },
          "hoverlabel": {
           "align": "left"
          },
          "hovermode": "closest",
          "mapbox": {
           "style": "light"
          },
          "paper_bgcolor": "white",
          "plot_bgcolor": "#E5ECF6",
          "polar": {
           "angularaxis": {
            "gridcolor": "white",
            "linecolor": "white",
            "ticks": ""
           },
           "bgcolor": "#E5ECF6",
           "radialaxis": {
            "gridcolor": "white",
            "linecolor": "white",
            "ticks": ""
           }
          },
          "scene": {
           "xaxis": {
            "backgroundcolor": "#E5ECF6",
            "gridcolor": "white",
            "gridwidth": 2,
            "linecolor": "white",
            "showbackground": true,
            "ticks": "",
            "zerolinecolor": "white"
           },
           "yaxis": {
            "backgroundcolor": "#E5ECF6",
            "gridcolor": "white",
            "gridwidth": 2,
            "linecolor": "white",
            "showbackground": true,
            "ticks": "",
            "zerolinecolor": "white"
           },
           "zaxis": {
            "backgroundcolor": "#E5ECF6",
            "gridcolor": "white",
            "gridwidth": 2,
            "linecolor": "white",
            "showbackground": true,
            "ticks": "",
            "zerolinecolor": "white"
           }
          },
          "shapedefaults": {
           "line": {
            "color": "#2a3f5f"
           }
          },
          "ternary": {
           "aaxis": {
            "gridcolor": "white",
            "linecolor": "white",
            "ticks": ""
           },
           "baxis": {
            "gridcolor": "white",
            "linecolor": "white",
            "ticks": ""
           },
           "bgcolor": "#E5ECF6",
           "caxis": {
            "gridcolor": "white",
            "linecolor": "white",
            "ticks": ""
           }
          },
          "title": {
           "x": 0.05
          },
          "xaxis": {
           "automargin": true,
           "gridcolor": "white",
           "linecolor": "white",
           "ticks": "",
           "title": {
            "standoff": 15
           },
           "zerolinecolor": "white",
           "zerolinewidth": 2
          },
          "yaxis": {
           "automargin": true,
           "gridcolor": "white",
           "linecolor": "white",
           "ticks": "",
           "title": {
            "standoff": 15
           },
           "zerolinecolor": "white",
           "zerolinewidth": 2
          }
         }
        },
        "title": {
         "font": {
          "color": "#4D5663"
         }
        },
        "xaxis": {
         "gridcolor": "#E1E5ED",
         "showgrid": true,
         "tickfont": {
          "color": "#4D5663"
         },
         "title": {
          "font": {
           "color": "#4D5663"
          },
          "text": ""
         },
         "zerolinecolor": "#E1E5ED"
        },
        "yaxis": {
         "gridcolor": "#E1E5ED",
         "showgrid": true,
         "tickfont": {
          "color": "#4D5663"
         },
         "title": {
          "font": {
           "color": "#4D5663"
          },
          "text": ""
         },
         "zerolinecolor": "#E1E5ED"
        }
       }
      },
      "text/html": [
       "<div>                            <div id=\"14a8e06a-feb5-4964-8742-6ad46224974b\" class=\"plotly-graph-div\" style=\"height:525px; width:100%;\"></div>            <script type=\"text/javascript\">                require([\"plotly\"], function(Plotly) {                    window.PLOTLYENV=window.PLOTLYENV || {};\n",
       "                    window.PLOTLYENV.BASE_URL='https://plot.ly';                                    if (document.getElementById(\"14a8e06a-feb5-4964-8742-6ad46224974b\")) {                    Plotly.newPlot(                        \"14a8e06a-feb5-4964-8742-6ad46224974b\",                        [{\"histfunc\": \"count\", \"histnorm\": \"\", \"marker\": {\"color\": \"rgba(255, 153, 51, 1.0)\", \"line\": {\"color\": \"#4D5663\", \"width\": 1.3}}, \"name\": \"Length\", \"opacity\": 0.8, \"orientation\": \"v\", \"type\": \"histogram\", \"x\": [24, 18, 41, 87, 59, 46, 37, 111, 25, 14, 24, 18, 99, 60, 62, 50, 19, 38, 51, 20, 19, 18, 21, 52, 18, 67, 42, 73, 141, 33, 83, 29, 58, 115, 33, 78, 31, 88, 37, 14, 28, 81, 147, 77, 75, 64, 41, 43, 52, 102, 98, 90, 27, 112, 21, 72, 93, 59, 103, 67, 84, 49, 45, 35, 35, 72, 35, 71, 98, 30, 91, 41, 20, 87, 128, 54, 37, 56, 80, 119, 133, 87, 37, 18, 110, 64, 73, 44, 23, 35, 63, 117, 80, 24, 29, 21, 19, 21, 16, 51, 146, 90, 54, 113, 54, 55, 91, 53, 27, 13, 59, 92, 77, 23, 12, 13, 20, 27, 45, 107, 126, 62, 47, 140, 111, 52, 131, 38, 18, 96, 51, 22, 139, 23, 81, 105, 39, 48, 120, 72, 15, 63, 85, 72, 87, 63, 84, 119, 23, 77, 88, 47, 41, 44, 44, 52, 109, 126, 19, 99, 63, 25, 45, 18, 43, 11, 81, 53, 31, 21, 114, 121, 33, 72, 127, 100, 44, 72, 81, 75, 132, 114, 37, 21, 99, 69, 82, 18, 46, 120, 49, 37, 52, 94, 99, 45, 40, 51, 20, 22, 94, 38, 26, 18, 33, 21, 100, 26, 42, 80, 139, 106, 34, 14, 16, 25, 19, 35, 40, 40, 127, 30, 118, 89, 54, 32, 32, 61, 36, 60, 84, 102, 19, 111, 109, 60, 142, 121, 98, 65, 43, 35, 80, 61, 78, 58, 36, 63, 49, 116, 33, 55, 49, 146, 62, 54, 23, 59, 32, 36, 32, 97, 40, 51, 46, 24, 38, 82, 51, 61, 45, 44, 20, 82, 43, 81, 50, 59, 17, 80, 77, 20, 20, 64, 60, 23, 51, 86, 22, 101, 94, 38, 83, 106, 51, 50, 132, 58, 43, 49, 52, 52, 118, 23, 19, 60, 25, 95, 77, 36, 15, 61, 23, 17, 68, 42, 132, 101, 100, 31, 33, 66, 63, 61, 46, 49, 26, 116, 115, 90, 88, 73, 61, 21, 18, 23, 105, 82, 28, 44, 44, 63, 68, 34, 75, 31, 40, 87, 37, 71, 56, 16, 36, 47, 19, 83, 93, 59, 35, 47, 60, 87, 24, 82, 54, 64, 55, 62, 43, 20, 61, 32, 66, 106, 45, 27, 41, 54, 32, 126, 16, 24, 64, 22, 68, 82, 46, 61, 19, 33, 60, 124, 85, 73, 135, 147, 70, 83, 60, 52, 36, 69, 61, 93, 119, 21, 33, 47, 22, 20, 61, 37, 34, 48, 51, 58, 37, 29, 61, 146, 95, 124, 67, 80, 24, 14, 76, 18, 33, 61, 19, 24, 30, 79, 24, 73, 37, 58, 29, 37, 47, 20, 59, 16, 74, 75, 17, 20, 101, 67, 47, 19, 138, 18, 47, 70, 116, 32, 33, 19, 35, 98, 47, 26, 47, 61, 68, 146, 25, 66, 18, 62, 20, 27, 90, 49, 32, 58, 92, 11, 80, 110, 100, 39, 40, 74, 116, 49, 65, 20, 31, 57, 93, 31, 52, 24, 58, 60, 67, 29, 121, 39, 45, 28, 41, 33, 42, 35, 17, 24, 88, 41, 45, 23, 44, 48, 28, 82, 44, 82, 51, 32, 25, 44, 27, 92, 28, 107, 55, 28, 30, 38, 68, 137, 20, 56, 52, 55, 19, 66, 58, 115, 54, 48, 71, 37, 82, 46, 32, 148, 73, 14, 39, 61, 74, 81, 25, 60, 39, 21, 70, 28, 12, 94, 34, 88, 93, 19, 21, 22, 47, 82, 29, 62, 55, 52, 58, 44, 47, 93, 26, 11, 51, 34, 83, 61, 42, 58, 126, 28, 34, 75, 60, 47, 63, 56, 45, 47, 98, 23, 48, 129, 45, 38, 40, 17, 15, 23, 90, 33, 120, 66, 90, 59, 23, 43, 39, 78, 52, 18, 47, 21, 72, 147, 21, 20, 73, 64, 119, 114, 101, 43, 50, 49, 39, 36, 49, 131, 75, 21, 36, 20, 57, 64, 53, 20, 15, 25, 11, 36, 54, 57, 76, 53, 39, 31, 42, 81, 33, 84, 114, 50, 57, 11, 19, 94, 29, 98, 83, 54, 13, 32, 47, 33, 25, 32, 24, 46, 45, 35, 54, 58, 33, 34, 16, 18, 110, 62, 86, 26, 26, 39, 24, 83, 114, 34, 122, 16, 50, 102, 73, 43, 60, 71, 61, 107, 27, 30, 66, 88, 59, 13, 13, 46, 62, 118, 35, 52, 29, 124, 29, 108, 54, 93, 26, 31, 138, 43, 40, 42, 104, 75, 47, 43, 107, 54, 49, 83, 57, 42, 68, 22, 107, 67, 17, 90, 57, 104, 96, 76, 61, 70, 66, 71, 85, 80, 73, 29, 33, 42, 50, 49, 57, 31, 27, 17, 75, 22, 78, 69, 54, 45, 76, 41, 44, 56, 41, 97, 34, 31, 36, 47, 84, 71, 56, 27, 27, 89, 115, 44, 87, 32, 134, 45, 100, 146, 63, 33, 14, 55, 16, 31, 50, 36, 38, 132, 50, 119, 67, 106, 109, 32, 86, 15, 18, 39, 22, 47, 59, 39, 42, 29, 115, 42, 14, 25, 31, 72, 33, 83, 49, 18, 92, 87, 20, 77, 47, 127, 54, 67, 49, 33, 76, 16, 48, 29, 33, 74, 92, 139, 47, 35, 53, 49, 99, 69, 44, 115, 37, 39, 62, 60, 147, 35, 35, 98, 80, 48, 71, 116, 77, 57, 104, 77, 23, 26, 46, 22, 60, 92, 50, 44, 32, 100, 133, 49, 31, 37, 32, 122, 68, 62, 49, 16, 63, 68, 30, 37, 49, 28, 27, 97, 55, 32, 26, 58, 61, 55, 22, 37, 145, 15, 93, 94, 47, 86, 74, 40, 81, 121, 52, 25, 70, 33, 70, 85, 49, 68, 112, 25, 72, 101, 48, 23, 63, 25, 72, 25, 66, 100, 21, 35, 43, 43, 69, 90, 67, 25, 42, 96, 42, 118, 111, 20, 50, 29, 46, 39, 89, 120, 107, 114, 78, 82, 59, 41, 20, 22, 122, 81, 136, 31, 70, 21, 62, 45, 75, 36, 36, 80, 113, 88, 23, 105, 44, 149, 94, 46, 58, 58, 90, 42, 75, 39, 40, 66, 24, 50, 91, 134]}],                        {\"barmode\": \"overlay\", \"legend\": {\"bgcolor\": \"#F5F6F9\", \"font\": {\"color\": \"#4D5663\"}}, \"paper_bgcolor\": \"#F5F6F9\", \"plot_bgcolor\": \"#F5F6F9\", \"template\": {\"data\": {\"bar\": [{\"error_x\": {\"color\": \"#2a3f5f\"}, \"error_y\": {\"color\": \"#2a3f5f\"}, \"marker\": {\"line\": {\"color\": \"#E5ECF6\", \"width\": 0.5}}, \"type\": \"bar\"}], \"barpolar\": [{\"marker\": {\"line\": {\"color\": \"#E5ECF6\", \"width\": 0.5}}, \"type\": \"barpolar\"}], \"carpet\": [{\"aaxis\": {\"endlinecolor\": \"#2a3f5f\", \"gridcolor\": \"white\", \"linecolor\": \"white\", \"minorgridcolor\": \"white\", \"startlinecolor\": \"#2a3f5f\"}, \"baxis\": {\"endlinecolor\": \"#2a3f5f\", \"gridcolor\": \"white\", \"linecolor\": \"white\", \"minorgridcolor\": \"white\", \"startlinecolor\": \"#2a3f5f\"}, \"type\": \"carpet\"}], \"choropleth\": [{\"colorbar\": {\"outlinewidth\": 0, \"ticks\": \"\"}, \"type\": \"choropleth\"}], \"contour\": [{\"colorbar\": {\"outlinewidth\": 0, \"ticks\": \"\"}, \"colorscale\": [[0.0, \"#0d0887\"], [0.1111111111111111, \"#46039f\"], [0.2222222222222222, \"#7201a8\"], [0.3333333333333333, \"#9c179e\"], [0.4444444444444444, \"#bd3786\"], [0.5555555555555556, \"#d8576b\"], [0.6666666666666666, \"#ed7953\"], [0.7777777777777778, \"#fb9f3a\"], [0.8888888888888888, \"#fdca26\"], [1.0, \"#f0f921\"]], \"type\": \"contour\"}], \"contourcarpet\": [{\"colorbar\": {\"outlinewidth\": 0, \"ticks\": \"\"}, \"type\": \"contourcarpet\"}], \"heatmap\": [{\"colorbar\": {\"outlinewidth\": 0, \"ticks\": \"\"}, \"colorscale\": [[0.0, \"#0d0887\"], [0.1111111111111111, \"#46039f\"], [0.2222222222222222, \"#7201a8\"], [0.3333333333333333, \"#9c179e\"], [0.4444444444444444, \"#bd3786\"], [0.5555555555555556, \"#d8576b\"], [0.6666666666666666, \"#ed7953\"], [0.7777777777777778, \"#fb9f3a\"], [0.8888888888888888, \"#fdca26\"], [1.0, \"#f0f921\"]], \"type\": \"heatmap\"}], \"heatmapgl\": [{\"colorbar\": {\"outlinewidth\": 0, \"ticks\": \"\"}, \"colorscale\": [[0.0, \"#0d0887\"], [0.1111111111111111, \"#46039f\"], [0.2222222222222222, \"#7201a8\"], [0.3333333333333333, \"#9c179e\"], [0.4444444444444444, \"#bd3786\"], [0.5555555555555556, \"#d8576b\"], [0.6666666666666666, \"#ed7953\"], [0.7777777777777778, \"#fb9f3a\"], [0.8888888888888888, \"#fdca26\"], [1.0, \"#f0f921\"]], \"type\": \"heatmapgl\"}], \"histogram\": [{\"marker\": {\"colorbar\": {\"outlinewidth\": 0, \"ticks\": \"\"}}, \"type\": \"histogram\"}], \"histogram2d\": [{\"colorbar\": {\"outlinewidth\": 0, \"ticks\": \"\"}, \"colorscale\": [[0.0, \"#0d0887\"], [0.1111111111111111, \"#46039f\"], [0.2222222222222222, \"#7201a8\"], [0.3333333333333333, \"#9c179e\"], [0.4444444444444444, \"#bd3786\"], [0.5555555555555556, \"#d8576b\"], [0.6666666666666666, \"#ed7953\"], [0.7777777777777778, \"#fb9f3a\"], [0.8888888888888888, \"#fdca26\"], [1.0, \"#f0f921\"]], \"type\": \"histogram2d\"}], \"histogram2dcontour\": [{\"colorbar\": {\"outlinewidth\": 0, \"ticks\": \"\"}, \"colorscale\": [[0.0, \"#0d0887\"], [0.1111111111111111, \"#46039f\"], [0.2222222222222222, \"#7201a8\"], [0.3333333333333333, \"#9c179e\"], [0.4444444444444444, \"#bd3786\"], [0.5555555555555556, \"#d8576b\"], [0.6666666666666666, \"#ed7953\"], [0.7777777777777778, \"#fb9f3a\"], [0.8888888888888888, \"#fdca26\"], [1.0, \"#f0f921\"]], \"type\": \"histogram2dcontour\"}], \"mesh3d\": [{\"colorbar\": {\"outlinewidth\": 0, \"ticks\": \"\"}, \"type\": \"mesh3d\"}], \"parcoords\": [{\"line\": {\"colorbar\": {\"outlinewidth\": 0, \"ticks\": \"\"}}, \"type\": \"parcoords\"}], \"pie\": [{\"automargin\": true, \"type\": \"pie\"}], \"scatter\": [{\"marker\": {\"colorbar\": {\"outlinewidth\": 0, \"ticks\": \"\"}}, \"type\": \"scatter\"}], \"scatter3d\": [{\"line\": {\"colorbar\": {\"outlinewidth\": 0, \"ticks\": \"\"}}, \"marker\": {\"colorbar\": {\"outlinewidth\": 0, \"ticks\": \"\"}}, \"type\": \"scatter3d\"}], \"scattercarpet\": [{\"marker\": {\"colorbar\": {\"outlinewidth\": 0, \"ticks\": \"\"}}, \"type\": \"scattercarpet\"}], \"scattergeo\": [{\"marker\": {\"colorbar\": {\"outlinewidth\": 0, \"ticks\": \"\"}}, \"type\": \"scattergeo\"}], \"scattergl\": [{\"marker\": {\"colorbar\": {\"outlinewidth\": 0, \"ticks\": \"\"}}, \"type\": \"scattergl\"}], \"scattermapbox\": [{\"marker\": {\"colorbar\": {\"outlinewidth\": 0, \"ticks\": \"\"}}, \"type\": \"scattermapbox\"}], \"scatterpolar\": [{\"marker\": {\"colorbar\": {\"outlinewidth\": 0, \"ticks\": \"\"}}, \"type\": \"scatterpolar\"}], \"scatterpolargl\": [{\"marker\": {\"colorbar\": {\"outlinewidth\": 0, \"ticks\": \"\"}}, \"type\": \"scatterpolargl\"}], \"scatterternary\": [{\"marker\": {\"colorbar\": {\"outlinewidth\": 0, \"ticks\": \"\"}}, \"type\": \"scatterternary\"}], \"surface\": [{\"colorbar\": {\"outlinewidth\": 0, \"ticks\": \"\"}, \"colorscale\": [[0.0, \"#0d0887\"], [0.1111111111111111, \"#46039f\"], [0.2222222222222222, \"#7201a8\"], [0.3333333333333333, \"#9c179e\"], [0.4444444444444444, \"#bd3786\"], [0.5555555555555556, \"#d8576b\"], [0.6666666666666666, \"#ed7953\"], [0.7777777777777778, \"#fb9f3a\"], [0.8888888888888888, \"#fdca26\"], [1.0, \"#f0f921\"]], \"type\": \"surface\"}], \"table\": [{\"cells\": {\"fill\": {\"color\": \"#EBF0F8\"}, \"line\": {\"color\": \"white\"}}, \"header\": {\"fill\": {\"color\": \"#C8D4E3\"}, \"line\": {\"color\": \"white\"}}, \"type\": \"table\"}]}, \"layout\": {\"annotationdefaults\": {\"arrowcolor\": \"#2a3f5f\", \"arrowhead\": 0, \"arrowwidth\": 1}, \"autotypenumbers\": \"strict\", \"coloraxis\": {\"colorbar\": {\"outlinewidth\": 0, \"ticks\": \"\"}}, \"colorscale\": {\"diverging\": [[0, \"#8e0152\"], [0.1, \"#c51b7d\"], [0.2, \"#de77ae\"], [0.3, \"#f1b6da\"], [0.4, \"#fde0ef\"], [0.5, \"#f7f7f7\"], [0.6, \"#e6f5d0\"], [0.7, \"#b8e186\"], [0.8, \"#7fbc41\"], [0.9, \"#4d9221\"], [1, \"#276419\"]], \"sequential\": [[0.0, \"#0d0887\"], [0.1111111111111111, \"#46039f\"], [0.2222222222222222, \"#7201a8\"], [0.3333333333333333, \"#9c179e\"], [0.4444444444444444, \"#bd3786\"], [0.5555555555555556, \"#d8576b\"], [0.6666666666666666, \"#ed7953\"], [0.7777777777777778, \"#fb9f3a\"], [0.8888888888888888, \"#fdca26\"], [1.0, \"#f0f921\"]], \"sequentialminus\": [[0.0, \"#0d0887\"], [0.1111111111111111, \"#46039f\"], [0.2222222222222222, \"#7201a8\"], [0.3333333333333333, \"#9c179e\"], [0.4444444444444444, \"#bd3786\"], [0.5555555555555556, \"#d8576b\"], [0.6666666666666666, \"#ed7953\"], [0.7777777777777778, \"#fb9f3a\"], [0.8888888888888888, \"#fdca26\"], [1.0, \"#f0f921\"]]}, \"colorway\": [\"#636efa\", \"#EF553B\", \"#00cc96\", \"#ab63fa\", \"#FFA15A\", \"#19d3f3\", \"#FF6692\", \"#B6E880\", \"#FF97FF\", \"#FECB52\"], \"font\": {\"color\": \"#2a3f5f\"}, \"geo\": {\"bgcolor\": \"white\", \"lakecolor\": \"white\", \"landcolor\": \"#E5ECF6\", \"showlakes\": true, \"showland\": true, \"subunitcolor\": \"white\"}, \"hoverlabel\": {\"align\": \"left\"}, \"hovermode\": \"closest\", \"mapbox\": {\"style\": \"light\"}, \"paper_bgcolor\": \"white\", \"plot_bgcolor\": \"#E5ECF6\", \"polar\": {\"angularaxis\": {\"gridcolor\": \"white\", \"linecolor\": \"white\", \"ticks\": \"\"}, \"bgcolor\": \"#E5ECF6\", \"radialaxis\": {\"gridcolor\": \"white\", \"linecolor\": \"white\", \"ticks\": \"\"}}, \"scene\": {\"xaxis\": {\"backgroundcolor\": \"#E5ECF6\", \"gridcolor\": \"white\", \"gridwidth\": 2, \"linecolor\": \"white\", \"showbackground\": true, \"ticks\": \"\", \"zerolinecolor\": \"white\"}, \"yaxis\": {\"backgroundcolor\": \"#E5ECF6\", \"gridcolor\": \"white\", \"gridwidth\": 2, \"linecolor\": \"white\", \"showbackground\": true, \"ticks\": \"\", \"zerolinecolor\": \"white\"}, \"zaxis\": {\"backgroundcolor\": \"#E5ECF6\", \"gridcolor\": \"white\", \"gridwidth\": 2, \"linecolor\": \"white\", \"showbackground\": true, \"ticks\": \"\", \"zerolinecolor\": \"white\"}}, \"shapedefaults\": {\"line\": {\"color\": \"#2a3f5f\"}}, \"ternary\": {\"aaxis\": {\"gridcolor\": \"white\", \"linecolor\": \"white\", \"ticks\": \"\"}, \"baxis\": {\"gridcolor\": \"white\", \"linecolor\": \"white\", \"ticks\": \"\"}, \"bgcolor\": \"#E5ECF6\", \"caxis\": {\"gridcolor\": \"white\", \"linecolor\": \"white\", \"ticks\": \"\"}}, \"title\": {\"x\": 0.05}, \"xaxis\": {\"automargin\": true, \"gridcolor\": \"white\", \"linecolor\": \"white\", \"ticks\": \"\", \"title\": {\"standoff\": 15}, \"zerolinecolor\": \"white\", \"zerolinewidth\": 2}, \"yaxis\": {\"automargin\": true, \"gridcolor\": \"white\", \"linecolor\": \"white\", \"ticks\": \"\", \"title\": {\"standoff\": 15}, \"zerolinecolor\": \"white\", \"zerolinewidth\": 2}}}, \"title\": {\"font\": {\"color\": \"#4D5663\"}}, \"xaxis\": {\"gridcolor\": \"#E1E5ED\", \"showgrid\": true, \"tickfont\": {\"color\": \"#4D5663\"}, \"title\": {\"font\": {\"color\": \"#4D5663\"}, \"text\": \"\"}, \"zerolinecolor\": \"#E1E5ED\"}, \"yaxis\": {\"gridcolor\": \"#E1E5ED\", \"showgrid\": true, \"tickfont\": {\"color\": \"#4D5663\"}, \"title\": {\"font\": {\"color\": \"#4D5663\"}, \"text\": \"\"}, \"zerolinecolor\": \"#E1E5ED\"}},                        {\"showLink\": true, \"linkText\": \"Export to plot.ly\", \"plotlyServerURL\": \"https://plot.ly\", \"responsive\": true}                    ).then(function(){\n",
       "                            \n",
       "var gd = document.getElementById('14a8e06a-feb5-4964-8742-6ad46224974b');\n",
       "var x = new MutationObserver(function (mutations, observer) {{\n",
       "        var display = window.getComputedStyle(gd).display;\n",
       "        if (!display || display === 'none') {{\n",
       "            console.log([gd, 'removed!']);\n",
       "            Plotly.purge(gd);\n",
       "            observer.disconnect();\n",
       "        }}\n",
       "}});\n",
       "\n",
       "// Listen for the removal of the full notebook cells\n",
       "var notebookContainer = gd.closest('#notebook-container');\n",
       "if (notebookContainer) {{\n",
       "    x.observe(notebookContainer, {childList: true});\n",
       "}}\n",
       "\n",
       "// Listen for the clearing of the current output cell\n",
       "var outputEl = gd.closest('.output');\n",
       "if (outputEl) {{\n",
       "    x.observe(outputEl, {childList: true});\n",
       "}}\n",
       "\n",
       "                        })                };                });            </script>        </div>"
      ]
     },
     "metadata": {},
     "output_type": "display_data"
    }
   ],
   "source": [
    "import cufflinks as cf\n",
    "cf.go_offline()\n",
    "df[\"Length\"].iplot(kind=\"histogram\") \n",
    "# Here we get a hisgtogram of the length of the reviews"
   ]
  },
  {
   "cell_type": "code",
   "execution_count": 7,
   "id": "cosmetic-summary",
   "metadata": {
    "execution": {
     "iopub.execute_input": "2021-06-01T23:07:57.901618Z",
     "iopub.status.busy": "2021-06-01T23:07:57.900938Z",
     "iopub.status.idle": "2021-06-01T23:07:58.351607Z",
     "shell.execute_reply": "2021-06-01T23:07:58.351020Z",
     "shell.execute_reply.started": "2021-06-01T20:21:34.830213Z"
    },
    "papermill": {
     "duration": 0.498568,
     "end_time": "2021-06-01T23:07:58.351759",
     "exception": false,
     "start_time": "2021-06-01T23:07:57.853191",
     "status": "completed"
    },
    "tags": []
   },
   "outputs": [
    {
     "name": "stderr",
     "output_type": "stream",
     "text": [
      "/opt/conda/lib/python3.7/site-packages/pandas/plotting/_matplotlib/tools.py:400: MatplotlibDeprecationWarning:\n",
      "\n",
      "\n",
      "The is_first_col function was deprecated in Matplotlib 3.4 and will be removed two minor releases later. Use ax.get_subplotspec().is_first_col() instead.\n",
      "\n"
     ]
    },
    {
     "data": {
      "text/plain": [
       "array([<AxesSubplot:title={'center':'0'}>,\n",
       "       <AxesSubplot:title={'center':'1'}>], dtype=object)"
      ]
     },
     "execution_count": 7,
     "metadata": {},
     "output_type": "execute_result"
    },
    {
     "data": {
      "image/png": "[encoded data removed]",
      "text/plain": [
       "<Figure size 864x648 with 2 Axes>"
      ]
     },
     "metadata": {},
     "output_type": "display_data"
    }
   ],
   "source": [
    "\n",
    "sns.set_style(\"darkgrid\")\n",
    "df.hist(column=\"Length\",by=\"Liked\",figsize=(12,9))\n",
    "# We see that there is no big differences between the length of both liked and disliked reviews"
   ]
  },
  {
   "cell_type": "code",
   "execution_count": 8,
   "id": "initial-mountain",
   "metadata": {
    "execution": {
     "iopub.execute_input": "2021-06-01T23:07:58.445624Z",
     "iopub.status.busy": "2021-06-01T23:07:58.444970Z",
     "iopub.status.idle": "2021-06-01T23:07:58.449954Z",
     "shell.execute_reply": "2021-06-01T23:07:58.449417Z",
     "shell.execute_reply.started": "2021-06-01T20:34:58.219288Z"
    },
    "papermill": {
     "duration": 0.054268,
     "end_time": "2021-06-01T23:07:58.450100",
     "exception": false,
     "start_time": "2021-06-01T23:07:58.395832",
     "status": "completed"
    },
    "tags": []
   },
   "outputs": [
    {
     "data": {
      "text/plain": [
       "149"
      ]
     },
     "execution_count": 8,
     "metadata": {},
     "output_type": "execute_result"
    }
   ],
   "source": [
    "df[\"Length\"].max()"
   ]
  },
  {
   "cell_type": "markdown",
   "id": "environmental-institute",
   "metadata": {
    "papermill": {
     "duration": 0.04408,
     "end_time": "2021-06-01T23:07:58.538840",
     "exception": false,
     "start_time": "2021-06-01T23:07:58.494760",
     "status": "completed"
    },
    "tags": []
   },
   "source": [
    "## 2.2. Cleaning the Data:"
   ]
  },
  {
   "cell_type": "code",
   "execution_count": 9,
   "id": "million-flavor",
   "metadata": {
    "execution": {
     "iopub.execute_input": "2021-06-01T23:07:58.632971Z",
     "iopub.status.busy": "2021-06-01T23:07:58.632276Z",
     "iopub.status.idle": "2021-06-01T23:07:59.557099Z",
     "shell.execute_reply": "2021-06-01T23:07:59.556495Z",
     "shell.execute_reply.started": "2021-06-01T21:09:00.738436Z"
    },
    "papermill": {
     "duration": 0.974028,
     "end_time": "2021-06-01T23:07:59.557245",
     "exception": false,
     "start_time": "2021-06-01T23:07:58.583217",
     "status": "completed"
    },
    "tags": []
   },
   "outputs": [],
   "source": [
    "import re\n",
    "import nltk \n",
    "from nltk.corpus import stopwords #these are the words like \"the\", \"a\" which are not meaningful\n",
    "from nltk.stem.porter import PorterStemmer # this the algorithm to detect the meaning of the word from their roots\n",
    "# for example loved will be transformed into love"
   ]
  },
  {
   "cell_type": "code",
   "execution_count": 10,
   "id": "moving-sauce",
   "metadata": {
    "execution": {
     "iopub.execute_input": "2021-06-01T23:07:59.655093Z",
     "iopub.status.busy": "2021-06-01T23:07:59.654399Z",
     "iopub.status.idle": "2021-06-01T23:08:00.044892Z",
     "shell.execute_reply": "2021-06-01T23:08:00.044109Z",
     "shell.execute_reply.started": "2021-06-01T21:59:35.296659Z"
    },
    "papermill": {
     "duration": 0.442676,
     "end_time": "2021-06-01T23:08:00.045061",
     "exception": false,
     "start_time": "2021-06-01T23:07:59.602385",
     "status": "completed"
    },
    "tags": []
   },
   "outputs": [],
   "source": [
    "corpus = list()\n",
    "for i in range(0, len(df)):\n",
    "    #sub(pattern, repl, string, count=0, flags=0)\n",
    "    review = re.sub(\"[^a-zA-Z]\", \" \", df[\"Review\"][i]) # we will replace all the punction by space\n",
    "    # [^a-zA-Z] shows all the elements that are made by letters\n",
    "    review = review.lower()\n",
    "    review = review.split()\n",
    "    #Next step to get the stems or roots of each word, get rid of tenses added to the words\n",
    "    ps= PorterStemmer()\n",
    "    all_nonstop_words = stopwords.words(\"english\")\n",
    "    all_nonstop_words.remove(\"not\") #we need to remove not from the list of stop words\n",
    "    review = [ ps.stem(word) for word in review if word not in all_nonstop_words]\n",
    "    review = \" \".join(review) # we reconvert every review for list into a string\n",
    "    corpus.append(review)\n"
   ]
  },
  {
   "cell_type": "code",
   "execution_count": 11,
   "id": "demographic-profession",
   "metadata": {
    "execution": {
     "iopub.execute_input": "2021-06-01T23:08:00.141648Z",
     "iopub.status.busy": "2021-06-01T23:08:00.140950Z",
     "iopub.status.idle": "2021-06-01T23:08:00.144687Z",
     "shell.execute_reply": "2021-06-01T23:08:00.144041Z",
     "shell.execute_reply.started": "2021-06-01T21:59:38.244296Z"
    },
    "papermill": {
     "duration": 0.053976,
     "end_time": "2021-06-01T23:08:00.144848",
     "exception": false,
     "start_time": "2021-06-01T23:08:00.090872",
     "status": "completed"
    },
    "tags": []
   },
   "outputs": [
    {
     "name": "stdout",
     "output_type": "stream",
     "text": [
      "['wow love place', 'crust not good', 'not tasti textur nasti']\n"
     ]
    }
   ],
   "source": [
    "print(corpus[:3]) #This is the latest version of review after data cleaning process above\n",
    "#These ar ethe threes first reviews"
   ]
  },
  {
   "cell_type": "code",
   "execution_count": 12,
   "id": "biblical-enclosure",
   "metadata": {
    "execution": {
     "iopub.execute_input": "2021-06-01T23:08:00.244871Z",
     "iopub.status.busy": "2021-06-01T23:08:00.243897Z",
     "iopub.status.idle": "2021-06-01T23:08:00.248640Z",
     "shell.execute_reply": "2021-06-01T23:08:00.248142Z",
     "shell.execute_reply.started": "2021-06-01T21:37:28.790158Z"
    },
    "papermill": {
     "duration": 0.059143,
     "end_time": "2021-06-01T23:08:00.248805",
     "exception": false,
     "start_time": "2021-06-01T23:08:00.189662",
     "status": "completed"
    },
    "tags": []
   },
   "outputs": [
    {
     "data": {
      "text/html": [
       "<div>\n",
       "<style scoped>\n",
       "    .dataframe tbody tr th:only-of-type {\n",
       "        vertical-align: middle;\n",
       "    }\n",
       "\n",
       "    .dataframe tbody tr th {\n",
       "        vertical-align: top;\n",
       "    }\n",
       "\n",
       "    .dataframe thead th {\n",
       "        text-align: right;\n",
       "    }\n",
       "</style>\n",
       "<table border=\"1\" class=\"dataframe\">\n",
       "  <thead>\n",
       "    <tr style=\"text-align: right;\">\n",
       "      <th></th>\n",
       "      <th>Review</th>\n",
       "      <th>Liked</th>\n",
       "      <th>Length</th>\n",
       "    </tr>\n",
       "  </thead>\n",
       "  <tbody>\n",
       "    <tr>\n",
       "      <th>0</th>\n",
       "      <td>Wow... Loved this place.</td>\n",
       "      <td>1</td>\n",
       "      <td>24</td>\n",
       "    </tr>\n",
       "    <tr>\n",
       "      <th>1</th>\n",
       "      <td>Crust is not good.</td>\n",
       "      <td>0</td>\n",
       "      <td>18</td>\n",
       "    </tr>\n",
       "    <tr>\n",
       "      <th>2</th>\n",
       "      <td>Not tasty and the texture was just nasty.</td>\n",
       "      <td>0</td>\n",
       "      <td>41</td>\n",
       "    </tr>\n",
       "  </tbody>\n",
       "</table>\n",
       "</div>"
      ],
      "text/plain": [
       "                                      Review  Liked  Length\n",
       "0                   Wow... Loved this place.      1      24\n",
       "1                         Crust is not good.      0      18\n",
       "2  Not tasty and the texture was just nasty.      0      41"
      ]
     },
     "execution_count": 12,
     "metadata": {},
     "output_type": "execute_result"
    }
   ],
   "source": [
    "df.head(3) #This is the original version of the three first reviews"
   ]
  },
  {
   "cell_type": "markdown",
   "id": "married-guinea",
   "metadata": {
    "papermill": {
     "duration": 0.044678,
     "end_time": "2021-06-01T23:08:00.338621",
     "exception": false,
     "start_time": "2021-06-01T23:08:00.293943",
     "status": "completed"
    },
    "tags": []
   },
   "source": [
    "## 2.3. Creating Bag of Words:"
   ]
  },
  {
   "cell_type": "markdown",
   "id": "little-lexington",
   "metadata": {
    "papermill": {
     "duration": 0.045503,
     "end_time": "2021-06-01T23:08:00.429533",
     "exception": false,
     "start_time": "2021-06-01T23:08:00.384030",
     "status": "completed"
    },
    "tags": []
   },
   "source": [
    "<font color=\"blue\">\n",
    "Now we will tranform our data into vectors so that we can apply our NLP algorithm in three steps using the bag-of-words model:\n",
    "\n",
    "4.1.Count how many times does a word occur in each message (Known as term frequency)\n",
    "\n",
    "This represents the number of times a word appears in a document, divided by the total number of words in that document\n",
    "\n",
    "Term Frequency, which measures how frequently a term occurs in a document. Since every document is different in length, it is possible that a term would appear much more times in long documents than shorter ones. Thus, the term frequency is often divided by the document length (aka. the total number of terms in the document) as a way of normalization:\n",
    "\n",
    "TF(t) = (Number of times term t appears in a document) / (Total number of terms in the document)."
   ]
  },
  {
   "cell_type": "code",
   "execution_count": 13,
   "id": "rocky-excitement",
   "metadata": {
    "execution": {
     "iopub.execute_input": "2021-06-01T23:08:00.539350Z",
     "iopub.status.busy": "2021-06-01T23:08:00.538577Z",
     "iopub.status.idle": "2021-06-01T23:08:00.558431Z",
     "shell.execute_reply": "2021-06-01T23:08:00.557084Z",
     "shell.execute_reply.started": "2021-06-01T22:10:06.517874Z"
    },
    "papermill": {
     "duration": 0.084065,
     "end_time": "2021-06-01T23:08:00.558592",
     "exception": false,
     "start_time": "2021-06-01T23:08:00.474527",
     "status": "completed"
    },
    "tags": []
   },
   "outputs": [
    {
     "data": {
      "text/plain": [
       "array([[0, 0, 0, ..., 0, 0, 0],\n",
       "       [0, 0, 0, ..., 0, 0, 0],\n",
       "       [0, 0, 0, ..., 0, 0, 0],\n",
       "       ...,\n",
       "       [0, 0, 0, ..., 0, 0, 0],\n",
       "       [0, 0, 0, ..., 0, 0, 0],\n",
       "       [0, 0, 0, ..., 0, 0, 0]])"
      ]
     },
     "execution_count": 13,
     "metadata": {},
     "output_type": "execute_result"
    }
   ],
   "source": [
    "from sklearn.feature_extraction.text import CountVectorizer\n",
    "cv = CountVectorizer()\n",
    "X = cv.fit_transform(corpus).toarray()\n",
    "X"
   ]
  },
  {
   "cell_type": "code",
   "execution_count": 14,
   "id": "martial-cannon",
   "metadata": {
    "execution": {
     "iopub.execute_input": "2021-06-01T23:08:00.655749Z",
     "iopub.status.busy": "2021-06-01T23:08:00.654862Z",
     "iopub.status.idle": "2021-06-01T23:08:00.659362Z",
     "shell.execute_reply": "2021-06-01T23:08:00.658690Z",
     "shell.execute_reply.started": "2021-06-01T22:10:21.391551Z"
    },
    "papermill": {
     "duration": 0.055171,
     "end_time": "2021-06-01T23:08:00.659506",
     "exception": false,
     "start_time": "2021-06-01T23:08:00.604335",
     "status": "completed"
    },
    "tags": []
   },
   "outputs": [
    {
     "data": {
      "text/plain": [
       "(1000, 1566)"
      ]
     },
     "execution_count": 14,
     "metadata": {},
     "output_type": "execute_result"
    }
   ],
   "source": [
    "X.shape #This shows that we have 1000 reviews and 1566 different words"
   ]
  },
  {
   "cell_type": "code",
   "execution_count": 15,
   "id": "serial-ready",
   "metadata": {
    "execution": {
     "iopub.execute_input": "2021-06-01T23:08:00.757015Z",
     "iopub.status.busy": "2021-06-01T23:08:00.756261Z",
     "iopub.status.idle": "2021-06-01T23:08:00.759601Z",
     "shell.execute_reply": "2021-06-01T23:08:00.759040Z",
     "shell.execute_reply.started": "2021-06-01T22:11:18.599558Z"
    },
    "papermill": {
     "duration": 0.054312,
     "end_time": "2021-06-01T23:08:00.759739",
     "exception": false,
     "start_time": "2021-06-01T23:08:00.705427",
     "status": "completed"
    },
    "tags": []
   },
   "outputs": [
    {
     "data": {
      "text/plain": [
       "(1000,)"
      ]
     },
     "execution_count": 15,
     "metadata": {},
     "output_type": "execute_result"
    }
   ],
   "source": [
    "y = df[\"Liked\"].values # This our target\n",
    "y.shape"
   ]
  },
  {
   "cell_type": "markdown",
   "id": "japanese-departure",
   "metadata": {
    "papermill": {
     "duration": 0.046824,
     "end_time": "2021-06-01T23:08:00.853358",
     "exception": false,
     "start_time": "2021-06-01T23:08:00.806534",
     "status": "completed"
    },
    "tags": []
   },
   "source": [
    "## 2.4. Applying Machine Learning Algorithm:"
   ]
  },
  {
   "cell_type": "code",
   "execution_count": 16,
   "id": "higher-express",
   "metadata": {
    "execution": {
     "iopub.execute_input": "2021-06-01T23:08:00.952102Z",
     "iopub.status.busy": "2021-06-01T23:08:00.951388Z",
     "iopub.status.idle": "2021-06-01T23:08:00.963928Z",
     "shell.execute_reply": "2021-06-01T23:08:00.964611Z",
     "shell.execute_reply.started": "2021-06-01T22:19:40.591879Z"
    },
    "papermill": {
     "duration": 0.065401,
     "end_time": "2021-06-01T23:08:00.964889",
     "exception": false,
     "start_time": "2021-06-01T23:08:00.899488",
     "status": "completed"
    },
    "tags": []
   },
   "outputs": [
    {
     "name": "stdout",
     "output_type": "stream",
     "text": [
      "(800, 1566) (200, 1566)\n",
      "(800,) (200,)\n"
     ]
    }
   ],
   "source": [
    "from sklearn.model_selection import train_test_split\n",
    "X_train,X_test,y_train,y_test = train_test_split(X,y,test_size = 0.2,random_state = 0)\n",
    "print(X_train.shape,X_test.shape)\n",
    "print(y_train.shape,y_test.shape)"
   ]
  },
  {
   "cell_type": "code",
   "execution_count": 17,
   "id": "comic-opening",
   "metadata": {
    "execution": {
     "iopub.execute_input": "2021-06-01T23:08:01.065290Z",
     "iopub.status.busy": "2021-06-01T23:08:01.064560Z",
     "iopub.status.idle": "2021-06-01T23:08:01.103076Z",
     "shell.execute_reply": "2021-06-01T23:08:01.102533Z",
     "shell.execute_reply.started": "2021-06-01T22:29:06.090088Z"
    },
    "papermill": {
     "duration": 0.090099,
     "end_time": "2021-06-01T23:08:01.103226",
     "exception": false,
     "start_time": "2021-06-01T23:08:01.013127",
     "status": "completed"
    },
    "tags": []
   },
   "outputs": [
    {
     "data": {
      "text/plain": [
       "array([1, 1, 1, 0, 0, 1, 1, 1, 1, 1, 1, 1, 1, 1, 1, 1, 0, 0, 0, 1, 0, 0,\n",
       "       1, 1, 1, 0, 1, 1, 1, 0, 1, 1, 1, 1, 1, 0, 1, 0, 1, 1, 1, 1, 1, 0,\n",
       "       0, 0, 1, 1, 0, 0, 1, 1, 1, 1, 1, 0, 1, 1, 0, 1, 1, 0, 1, 1, 1, 0,\n",
       "       1, 1, 1, 1, 1, 1, 1, 1, 0, 1, 1, 0, 0, 1, 0, 1, 1, 0, 1, 1, 1, 0,\n",
       "       1, 1, 0, 1, 0, 0, 1, 1, 1, 1, 1, 1, 0, 1, 1, 1, 0, 1, 1, 1, 0, 0,\n",
       "       0, 1, 0, 1, 1, 0, 1, 1, 1, 1, 1, 0, 1, 1, 0, 0, 1, 1, 0, 1, 1, 1,\n",
       "       0, 0, 1, 1, 1, 1, 1, 1, 0, 1, 1, 0, 1, 0, 1, 1, 1, 1, 1, 0, 1, 1,\n",
       "       1, 0, 1, 1, 1, 1, 1, 0, 0, 1, 0, 0, 1, 0, 0, 0, 0, 1, 1, 0, 0, 1,\n",
       "       0, 1, 0, 0, 1, 0, 0, 1, 0, 1, 0, 1, 0, 1, 1, 0, 1, 1, 1, 0, 1, 1,\n",
       "       1, 1])"
      ]
     },
     "execution_count": 17,
     "metadata": {},
     "output_type": "execute_result"
    }
   ],
   "source": [
    "from sklearn.naive_bayes import GaussianNB\n",
    "model1 = GaussianNB()\n",
    "model1.fit(X_train,y_train)\n",
    "predictions= model1.predict(X_test)\n",
    "predictions"
   ]
  },
  {
   "cell_type": "code",
   "execution_count": 18,
   "id": "alternative-mixer",
   "metadata": {
    "execution": {
     "iopub.execute_input": "2021-06-01T23:08:01.204159Z",
     "iopub.status.busy": "2021-06-01T23:08:01.203491Z",
     "iopub.status.idle": "2021-06-01T23:08:01.205401Z",
     "shell.execute_reply": "2021-06-01T23:08:01.205855Z",
     "shell.execute_reply.started": "2021-06-01T22:30:18.390183Z"
    },
    "papermill": {
     "duration": 0.054649,
     "end_time": "2021-06-01T23:08:01.206028",
     "exception": false,
     "start_time": "2021-06-01T23:08:01.151379",
     "status": "completed"
    },
    "tags": []
   },
   "outputs": [],
   "source": [
    "predictions_df = pd.DataFrame(predictions)\n",
    "original_reviews = pd.DataFrame(y_test)\n"
   ]
  },
  {
   "cell_type": "code",
   "execution_count": 19,
   "id": "successful-mattress",
   "metadata": {
    "execution": {
     "iopub.execute_input": "2021-06-01T23:08:01.302521Z",
     "iopub.status.busy": "2021-06-01T23:08:01.301893Z",
     "iopub.status.idle": "2021-06-01T23:08:01.314389Z",
     "shell.execute_reply": "2021-06-01T23:08:01.315012Z",
     "shell.execute_reply.started": "2021-06-01T22:35:33.481646Z"
    },
    "papermill": {
     "duration": 0.062367,
     "end_time": "2021-06-01T23:08:01.315185",
     "exception": false,
     "start_time": "2021-06-01T23:08:01.252818",
     "status": "completed"
    },
    "tags": []
   },
   "outputs": [
    {
     "data": {
      "text/html": [
       "<div>\n",
       "<style scoped>\n",
       "    .dataframe tbody tr th:only-of-type {\n",
       "        vertical-align: middle;\n",
       "    }\n",
       "\n",
       "    .dataframe tbody tr th {\n",
       "        vertical-align: top;\n",
       "    }\n",
       "\n",
       "    .dataframe thead th {\n",
       "        text-align: right;\n",
       "    }\n",
       "</style>\n",
       "<table border=\"1\" class=\"dataframe\">\n",
       "  <thead>\n",
       "    <tr style=\"text-align: right;\">\n",
       "      <th></th>\n",
       "      <th>Predictions of Gaussian Naive Bayes Model</th>\n",
       "      <th>Original reviews</th>\n",
       "    </tr>\n",
       "  </thead>\n",
       "  <tbody>\n",
       "    <tr>\n",
       "      <th>0</th>\n",
       "      <td>1</td>\n",
       "      <td>0</td>\n",
       "    </tr>\n",
       "    <tr>\n",
       "      <th>1</th>\n",
       "      <td>1</td>\n",
       "      <td>0</td>\n",
       "    </tr>\n",
       "    <tr>\n",
       "      <th>2</th>\n",
       "      <td>1</td>\n",
       "      <td>0</td>\n",
       "    </tr>\n",
       "    <tr>\n",
       "      <th>3</th>\n",
       "      <td>0</td>\n",
       "      <td>0</td>\n",
       "    </tr>\n",
       "    <tr>\n",
       "      <th>4</th>\n",
       "      <td>0</td>\n",
       "      <td>0</td>\n",
       "    </tr>\n",
       "    <tr>\n",
       "      <th>...</th>\n",
       "      <td>...</td>\n",
       "      <td>...</td>\n",
       "    </tr>\n",
       "    <tr>\n",
       "      <th>195</th>\n",
       "      <td>0</td>\n",
       "      <td>0</td>\n",
       "    </tr>\n",
       "    <tr>\n",
       "      <th>196</th>\n",
       "      <td>1</td>\n",
       "      <td>1</td>\n",
       "    </tr>\n",
       "    <tr>\n",
       "      <th>197</th>\n",
       "      <td>1</td>\n",
       "      <td>1</td>\n",
       "    </tr>\n",
       "    <tr>\n",
       "      <th>198</th>\n",
       "      <td>1</td>\n",
       "      <td>0</td>\n",
       "    </tr>\n",
       "    <tr>\n",
       "      <th>199</th>\n",
       "      <td>1</td>\n",
       "      <td>1</td>\n",
       "    </tr>\n",
       "  </tbody>\n",
       "</table>\n",
       "<p>200 rows × 2 columns</p>\n",
       "</div>"
      ],
      "text/plain": [
       "     Predictions of Gaussian Naive Bayes Model  Original reviews\n",
       "0                                            1                 0\n",
       "1                                            1                 0\n",
       "2                                            1                 0\n",
       "3                                            0                 0\n",
       "4                                            0                 0\n",
       "..                                         ...               ...\n",
       "195                                          0                 0\n",
       "196                                          1                 1\n",
       "197                                          1                 1\n",
       "198                                          1                 0\n",
       "199                                          1                 1\n",
       "\n",
       "[200 rows x 2 columns]"
      ]
     },
     "execution_count": 19,
     "metadata": {},
     "output_type": "execute_result"
    }
   ],
   "source": [
    "comparison = pd.concat([predictions_df,original_reviews],axis=1,ignore_index=True)\n",
    "comparison.columns = [\"Predictions of Gaussian Naive Bayes Model\",\"Original reviews\"]\n",
    "comparison"
   ]
  },
  {
   "cell_type": "code",
   "execution_count": 20,
   "id": "driving-bracket",
   "metadata": {
    "execution": {
     "iopub.execute_input": "2021-06-01T23:08:01.414110Z",
     "iopub.status.busy": "2021-06-01T23:08:01.413479Z",
     "iopub.status.idle": "2021-06-01T23:08:01.425110Z",
     "shell.execute_reply": "2021-06-01T23:08:01.425627Z",
     "shell.execute_reply.started": "2021-06-01T22:37:44.529839Z"
    },
    "papermill": {
     "duration": 0.063395,
     "end_time": "2021-06-01T23:08:01.425815",
     "exception": false,
     "start_time": "2021-06-01T23:08:01.362420",
     "status": "completed"
    },
    "tags": []
   },
   "outputs": [
    {
     "name": "stdout",
     "output_type": "stream",
     "text": [
      "[[55 42]\n",
      " [12 91]]\n",
      "              precision    recall  f1-score   support\n",
      "\n",
      "           0       0.82      0.57      0.67        97\n",
      "           1       0.68      0.88      0.77       103\n",
      "\n",
      "    accuracy                           0.73       200\n",
      "   macro avg       0.75      0.73      0.72       200\n",
      "weighted avg       0.75      0.73      0.72       200\n",
      "\n"
     ]
    }
   ],
   "source": [
    "from sklearn.metrics import confusion_matrix,classification_report\n",
    "print(confusion_matrix(y_test,predictions))\n",
    "print(classification_report(y_test,predictions))"
   ]
  },
  {
   "cell_type": "markdown",
   "id": "biblical-column",
   "metadata": {
    "papermill": {
     "duration": 0.047501,
     "end_time": "2021-06-01T23:08:01.521506",
     "exception": false,
     "start_time": "2021-06-01T23:08:01.474005",
     "status": "completed"
    },
    "tags": []
   },
   "source": [
    "<font color =\"red\">\n",
    "Lets try another algorithm:"
   ]
  },
  {
   "cell_type": "code",
   "execution_count": 21,
   "id": "finnish-realtor",
   "metadata": {
    "execution": {
     "iopub.execute_input": "2021-06-01T23:08:01.622241Z",
     "iopub.status.busy": "2021-06-01T23:08:01.621543Z",
     "iopub.status.idle": "2021-06-01T23:08:01.642432Z",
     "shell.execute_reply": "2021-06-01T23:08:01.643422Z",
     "shell.execute_reply.started": "2021-06-01T22:44:30.444560Z"
    },
    "papermill": {
     "duration": 0.074557,
     "end_time": "2021-06-01T23:08:01.643709",
     "exception": false,
     "start_time": "2021-06-01T23:08:01.569152",
     "status": "completed"
    },
    "tags": []
   },
   "outputs": [],
   "source": [
    "from sklearn.naive_bayes import MultinomialNB\n",
    "model2 = MultinomialNB()\n",
    "model2.fit(X_train,y_train)\n",
    "predictions2 = model2.predict(X_test)"
   ]
  },
  {
   "cell_type": "code",
   "execution_count": 22,
   "id": "solar-think",
   "metadata": {
    "execution": {
     "iopub.execute_input": "2021-06-01T23:08:01.793623Z",
     "iopub.status.busy": "2021-06-01T23:08:01.792998Z",
     "iopub.status.idle": "2021-06-01T23:08:01.801617Z",
     "shell.execute_reply": "2021-06-01T23:08:01.802589Z",
     "shell.execute_reply.started": "2021-06-01T22:44:47.484791Z"
    },
    "papermill": {
     "duration": 0.073592,
     "end_time": "2021-06-01T23:08:01.802915",
     "exception": false,
     "start_time": "2021-06-01T23:08:01.729323",
     "status": "completed"
    },
    "tags": []
   },
   "outputs": [
    {
     "name": "stdout",
     "output_type": "stream",
     "text": [
      "[[74 23]\n",
      " [22 81]]\n",
      "              precision    recall  f1-score   support\n",
      "\n",
      "           0       0.77      0.76      0.77        97\n",
      "           1       0.78      0.79      0.78       103\n",
      "\n",
      "    accuracy                           0.78       200\n",
      "   macro avg       0.77      0.77      0.77       200\n",
      "weighted avg       0.77      0.78      0.77       200\n",
      "\n"
     ]
    }
   ],
   "source": [
    "from sklearn.metrics import confusion_matrix,classification_report\n",
    "print(confusion_matrix(y_test,predictions2))\n",
    "print(classification_report(y_test,predictions2))"
   ]
  },
  {
   "cell_type": "markdown",
   "id": "southeast-drama",
   "metadata": {
    "papermill": {
     "duration": 0.048097,
     "end_time": "2021-06-01T23:08:01.901169",
     "exception": false,
     "start_time": "2021-06-01T23:08:01.853072",
     "status": "completed"
    },
    "tags": []
   },
   "source": [
    "<font color =\"red\">\n",
    "Predicting if a single review is positive or negative:"
   ]
  },
  {
   "cell_type": "code",
   "execution_count": 23,
   "id": "eight-pearl",
   "metadata": {
    "execution": {
     "iopub.execute_input": "2021-06-01T23:08:02.000903Z",
     "iopub.status.busy": "2021-06-01T23:08:02.000165Z",
     "iopub.status.idle": "2021-06-01T23:08:02.011872Z",
     "shell.execute_reply": "2021-06-01T23:08:02.010891Z",
     "shell.execute_reply.started": "2021-06-01T22:46:32.591203Z"
    },
    "papermill": {
     "duration": 0.062982,
     "end_time": "2021-06-01T23:08:02.012084",
     "exception": false,
     "start_time": "2021-06-01T23:08:01.949102",
     "status": "completed"
    },
    "tags": []
   },
   "outputs": [
    {
     "name": "stdout",
     "output_type": "stream",
     "text": [
      "[1]\n"
     ]
    }
   ],
   "source": [
    "new_review = 'I love this restaurant so much'\n",
    "new_review = re.sub('[^a-zA-Z]', ' ', new_review)\n",
    "new_review = new_review.lower()\n",
    "new_review = new_review.split()\n",
    "ps = PorterStemmer()\n",
    "all_stopwords = stopwords.words('english')\n",
    "all_stopwords.remove('not')\n",
    "new_review = [ps.stem(word) for word in new_review if not word in set(all_stopwords)]\n",
    "new_review = ' '.join(new_review)\n",
    "new_corpus = [new_review]\n",
    "new_X_test = cv.transform(new_corpus).toarray()\n",
    "new_y_pred = model1.predict(new_X_test)\n",
    "print(new_y_pred) #It is positive according to the first model"
   ]
  },
  {
   "cell_type": "code",
   "execution_count": 24,
   "id": "isolated-sherman",
   "metadata": {
    "execution": {
     "iopub.execute_input": "2021-06-01T23:08:02.116960Z",
     "iopub.status.busy": "2021-06-01T23:08:02.116197Z",
     "iopub.status.idle": "2021-06-01T23:08:02.121674Z",
     "shell.execute_reply": "2021-06-01T23:08:02.122215Z",
     "shell.execute_reply.started": "2021-06-01T22:47:01.470943Z"
    },
    "papermill": {
     "duration": 0.061198,
     "end_time": "2021-06-01T23:08:02.122414",
     "exception": false,
     "start_time": "2021-06-01T23:08:02.061216",
     "status": "completed"
    },
    "tags": []
   },
   "outputs": [
    {
     "name": "stdout",
     "output_type": "stream",
     "text": [
      "[1]\n"
     ]
    }
   ],
   "source": [
    "new_review = 'I love this restaurant so much'\n",
    "new_review = re.sub('[^a-zA-Z]', ' ', new_review)\n",
    "new_review = new_review.lower()\n",
    "new_review = new_review.split()\n",
    "ps = PorterStemmer()\n",
    "all_stopwords = stopwords.words('english')\n",
    "all_stopwords.remove('not')\n",
    "new_review = [ps.stem(word) for word in new_review if not word in set(all_stopwords)]\n",
    "new_review = ' '.join(new_review)\n",
    "new_corpus = [new_review]\n",
    "new_X_test = cv.transform(new_corpus).toarray()\n",
    "new_y_pred = model2.predict(new_X_test)\n",
    "print(new_y_pred) #It is also positive according to the second model"
   ]
  },
  {
   "cell_type": "code",
   "execution_count": 25,
   "id": "incident-worst",
   "metadata": {
    "execution": {
     "iopub.execute_input": "2021-06-01T23:08:02.230327Z",
     "iopub.status.busy": "2021-06-01T23:08:02.229554Z",
     "iopub.status.idle": "2021-06-01T23:08:02.232189Z",
     "shell.execute_reply": "2021-06-01T23:08:02.232683Z",
     "shell.execute_reply.started": "2021-06-01T22:47:42.207926Z"
    },
    "papermill": {
     "duration": 0.060852,
     "end_time": "2021-06-01T23:08:02.232870",
     "exception": false,
     "start_time": "2021-06-01T23:08:02.172018",
     "status": "completed"
    },
    "tags": []
   },
   "outputs": [
    {
     "name": "stdout",
     "output_type": "stream",
     "text": [
      "[0]\n"
     ]
    }
   ],
   "source": [
    "new_review = 'I hate this restaurant so much'\n",
    "new_review = re.sub('[^a-zA-Z]', ' ', new_review)\n",
    "new_review = new_review.lower()\n",
    "new_review = new_review.split()\n",
    "ps = PorterStemmer()\n",
    "all_stopwords = stopwords.words('english')\n",
    "all_stopwords.remove('not')\n",
    "new_review = [ps.stem(word) for word in new_review if not word in set(all_stopwords)]\n",
    "new_review = ' '.join(new_review)\n",
    "new_corpus = [new_review]\n",
    "new_X_test = cv.transform(new_corpus).toarray()\n",
    "new_y_pred = model1.predict(new_X_test)\n",
    "print(new_y_pred) # This is a negative review according to our first model"
   ]
  },
  {
   "cell_type": "code",
   "execution_count": 26,
   "id": "arctic-thesaurus",
   "metadata": {
    "execution": {
     "iopub.execute_input": "2021-06-01T23:08:02.334534Z",
     "iopub.status.busy": "2021-06-01T23:08:02.333824Z",
     "iopub.status.idle": "2021-06-01T23:08:02.343410Z",
     "shell.execute_reply": "2021-06-01T23:08:02.343929Z",
     "shell.execute_reply.started": "2021-06-01T22:47:52.877925Z"
    },
    "papermill": {
     "duration": 0.062065,
     "end_time": "2021-06-01T23:08:02.344116",
     "exception": false,
     "start_time": "2021-06-01T23:08:02.282051",
     "status": "completed"
    },
    "tags": []
   },
   "outputs": [
    {
     "name": "stdout",
     "output_type": "stream",
     "text": [
      "[0]\n"
     ]
    }
   ],
   "source": [
    "new_review = 'I hate this restaurant so much'\n",
    "new_review = re.sub('[^a-zA-Z]', ' ', new_review)\n",
    "new_review = new_review.lower()\n",
    "new_review = new_review.split()\n",
    "ps = PorterStemmer()\n",
    "all_stopwords = stopwords.words('english')\n",
    "all_stopwords.remove('not')\n",
    "new_review = [ps.stem(word) for word in new_review if not word in set(all_stopwords)]\n",
    "new_review = ' '.join(new_review)\n",
    "new_corpus = [new_review]\n",
    "new_X_test = cv.transform(new_corpus).toarray()\n",
    "new_y_pred = model2.predict(new_X_test)\n",
    "print(new_y_pred) # This is a negative review according to our second model"
   ]
  },
  {
   "cell_type": "code",
   "execution_count": 27,
   "id": "julian-genius",
   "metadata": {
    "execution": {
     "iopub.execute_input": "2021-06-01T23:08:02.448128Z",
     "iopub.status.busy": "2021-06-01T23:08:02.447359Z",
     "iopub.status.idle": "2021-06-01T23:08:02.484155Z",
     "shell.execute_reply": "2021-06-01T23:08:02.483322Z",
     "shell.execute_reply.started": "2021-06-01T22:51:27.659623Z"
    },
    "papermill": {
     "duration": 0.090888,
     "end_time": "2021-06-01T23:08:02.484368",
     "exception": false,
     "start_time": "2021-06-01T23:08:02.393480",
     "status": "completed"
    },
    "tags": []
   },
   "outputs": [
    {
     "data": {
      "text/plain": [
       "array([[-0.08692914, -0.03537746, -0.03537746, ...,  0.        ,\n",
       "        -0.07088812, -0.06696495],\n",
       "       [-0.08692914, -0.03537746, -0.03537746, ...,  0.        ,\n",
       "        -0.07088812, -0.06696495],\n",
       "       [-0.08692914, -0.03537746, -0.03537746, ...,  0.        ,\n",
       "        -0.07088812, -0.06696495],\n",
       "       ...,\n",
       "       [-0.08692914, -0.03537746, -0.03537746, ...,  0.        ,\n",
       "        -0.07088812, -0.06696495],\n",
       "       [-0.08692914, -0.03537746, -0.03537746, ...,  0.        ,\n",
       "        -0.07088812, -0.06696495],\n",
       "       [-0.08692914, -0.03537746, -0.03537746, ...,  0.        ,\n",
       "        -0.07088812, -0.06696495]])"
      ]
     },
     "execution_count": 27,
     "metadata": {},
     "output_type": "execute_result"
    }
   ],
   "source": [
    "from sklearn.preprocessing import StandardScaler\n",
    "sc=StandardScaler()\n",
    "X_train=sc.fit_transform(X_train)\n",
    "X_test=sc.transform(X_test)\n",
    "X_train"
   ]
  },
  {
   "cell_type": "code",
   "execution_count": 28,
   "id": "pharmaceutical-gospel",
   "metadata": {
    "execution": {
     "iopub.execute_input": "2021-06-01T23:08:02.593597Z",
     "iopub.status.busy": "2021-06-01T23:08:02.592918Z",
     "iopub.status.idle": "2021-06-01T23:08:08.505665Z",
     "shell.execute_reply": "2021-06-01T23:08:08.504711Z",
     "shell.execute_reply.started": "2021-06-01T23:02:15.040612Z"
    },
    "papermill": {
     "duration": 5.969486,
     "end_time": "2021-06-01T23:08:08.505846",
     "exception": false,
     "start_time": "2021-06-01T23:08:02.536360",
     "status": "completed"
    },
    "tags": []
   },
   "outputs": [],
   "source": [
    "from tensorflow.keras.models import Sequential\n",
    "from tensorflow.keras.layers import Dense, Dropout\n",
    "ann = Sequential()\n",
    "ann.add(Dense(units=1566, activation=\"relu\"))\n",
    "ann.add(Dropout(0.1))\n",
    "ann.add(Dense(units=1, activation=\"sigmoid\"))\n",
    "ann.compile(optimizer=\"adam\",loss=\"binary_crossentropy\", metrics=[\"accuracy\"])\n"
   ]
  },
  {
   "cell_type": "code",
   "execution_count": 29,
   "id": "continuous-horse",
   "metadata": {
    "execution": {
     "iopub.execute_input": "2021-06-01T23:08:08.611213Z",
     "iopub.status.busy": "2021-06-01T23:08:08.610516Z",
     "iopub.status.idle": "2021-06-01T23:08:12.831045Z",
     "shell.execute_reply": "2021-06-01T23:08:12.830066Z",
     "shell.execute_reply.started": "2021-06-01T23:02:17.680950Z"
    },
    "papermill": {
     "duration": 4.275673,
     "end_time": "2021-06-01T23:08:12.831233",
     "exception": false,
     "start_time": "2021-06-01T23:08:08.555560",
     "status": "completed"
    },
    "tags": []
   },
   "outputs": [
    {
     "name": "stdout",
     "output_type": "stream",
     "text": [
      "Epoch 1/8\n",
      "25/25 [==============================] - 2s 43ms/step - loss: 0.8550 - accuracy: 0.5645 - val_loss: 1.2100 - val_accuracy: 0.5600\n",
      "Epoch 2/8\n",
      "25/25 [==============================] - 0s 14ms/step - loss: 0.5051 - accuracy: 0.7602 - val_loss: 0.6983 - val_accuracy: 0.7650\n",
      "Epoch 3/8\n",
      "25/25 [==============================] - 0s 14ms/step - loss: 0.1572 - accuracy: 0.9456 - val_loss: 0.6018 - val_accuracy: 0.7850\n",
      "Epoch 4/8\n",
      "25/25 [==============================] - 0s 14ms/step - loss: 0.0462 - accuracy: 0.9913 - val_loss: 0.6093 - val_accuracy: 0.8000\n",
      "Epoch 5/8\n",
      "25/25 [==============================] - 0s 14ms/step - loss: 0.0373 - accuracy: 0.9926 - val_loss: 0.6321 - val_accuracy: 0.7700\n",
      "Epoch 6/8\n",
      "25/25 [==============================] - 0s 14ms/step - loss: 0.0304 - accuracy: 0.9939 - val_loss: 0.6365 - val_accuracy: 0.7800\n",
      "Epoch 7/8\n",
      "25/25 [==============================] - 0s 14ms/step - loss: 0.0253 - accuracy: 0.9960 - val_loss: 0.6503 - val_accuracy: 0.7750\n",
      "Epoch 8/8\n",
      "25/25 [==============================] - 0s 14ms/step - loss: 0.0249 - accuracy: 0.9946 - val_loss: 0.6579 - val_accuracy: 0.7650\n"
     ]
    }
   ],
   "source": [
    "history=ann.fit(x= X_train, y= y_train, batch_size=32, epochs=8, validation_data=(X_test, y_test))"
   ]
  },
  {
   "cell_type": "code",
   "execution_count": 30,
   "id": "bizarre-chain",
   "metadata": {
    "execution": {
     "iopub.execute_input": "2021-06-01T23:08:12.971872Z",
     "iopub.status.busy": "2021-06-01T23:08:12.971181Z",
     "iopub.status.idle": "2021-06-01T23:08:13.231837Z",
     "shell.execute_reply": "2021-06-01T23:08:13.231277Z",
     "shell.execute_reply.started": "2021-06-01T23:02:25.421455Z"
    },
    "papermill": {
     "duration": 0.334499,
     "end_time": "2021-06-01T23:08:13.231996",
     "exception": false,
     "start_time": "2021-06-01T23:08:12.897497",
     "status": "completed"
    },
    "tags": []
   },
   "outputs": [
    {
     "data": {
      "text/plain": [
       "<AxesSubplot:>"
      ]
     },
     "execution_count": 30,
     "metadata": {},
     "output_type": "execute_result"
    },
    {
     "data": {
      "image/png": "[encoded data removed]",
      "text/plain": [
       "<Figure size 432x288 with 1 Axes>"
      ]
     },
     "metadata": {},
     "output_type": "display_data"
    }
   ],
   "source": [
    "pd.DataFrame(ann.history.history).plot()"
   ]
  },
  {
   "cell_type": "code",
   "execution_count": 31,
   "id": "stainless-collar",
   "metadata": {
    "execution": {
     "iopub.execute_input": "2021-06-01T23:08:13.370871Z",
     "iopub.status.busy": "2021-06-01T23:08:13.370145Z",
     "iopub.status.idle": "2021-06-01T23:08:13.512153Z",
     "shell.execute_reply": "2021-06-01T23:08:13.511504Z",
     "shell.execute_reply.started": "2021-06-01T23:03:36.927413Z"
    },
    "papermill": {
     "duration": 0.213683,
     "end_time": "2021-06-01T23:08:13.512328",
     "exception": false,
     "start_time": "2021-06-01T23:08:13.298645",
     "status": "completed"
    },
    "tags": []
   },
   "outputs": [
    {
     "data": {
      "text/html": [
       "<div>\n",
       "<style scoped>\n",
       "    .dataframe tbody tr th:only-of-type {\n",
       "        vertical-align: middle;\n",
       "    }\n",
       "\n",
       "    .dataframe tbody tr th {\n",
       "        vertical-align: top;\n",
       "    }\n",
       "\n",
       "    .dataframe thead th {\n",
       "        text-align: right;\n",
       "    }\n",
       "</style>\n",
       "<table border=\"1\" class=\"dataframe\">\n",
       "  <thead>\n",
       "    <tr style=\"text-align: right;\">\n",
       "      <th></th>\n",
       "      <th>Pred</th>\n",
       "    </tr>\n",
       "  </thead>\n",
       "  <tbody>\n",
       "    <tr>\n",
       "      <th>0</th>\n",
       "      <td>0.075767</td>\n",
       "    </tr>\n",
       "    <tr>\n",
       "      <th>1</th>\n",
       "      <td>0.069210</td>\n",
       "    </tr>\n",
       "    <tr>\n",
       "      <th>2</th>\n",
       "      <td>0.278203</td>\n",
       "    </tr>\n",
       "    <tr>\n",
       "      <th>3</th>\n",
       "      <td>0.000306</td>\n",
       "    </tr>\n",
       "    <tr>\n",
       "      <th>4</th>\n",
       "      <td>0.006481</td>\n",
       "    </tr>\n",
       "  </tbody>\n",
       "</table>\n",
       "</div>"
      ],
      "text/plain": [
       "       Pred\n",
       "0  0.075767\n",
       "1  0.069210\n",
       "2  0.278203\n",
       "3  0.000306\n",
       "4  0.006481"
      ]
     },
     "execution_count": 31,
     "metadata": {},
     "output_type": "execute_result"
    }
   ],
   "source": [
    "predictions3=ann.predict(X_test)\n",
    "predictions_df=pd.DataFrame(predictions3, columns=[\"Pred\"])\n",
    "predictions_df.head()"
   ]
  },
  {
   "cell_type": "code",
   "execution_count": 32,
   "id": "official-regression",
   "metadata": {
    "execution": {
     "iopub.execute_input": "2021-06-01T23:08:13.662007Z",
     "iopub.status.busy": "2021-06-01T23:08:13.660996Z",
     "iopub.status.idle": "2021-06-01T23:08:13.665418Z",
     "shell.execute_reply": "2021-06-01T23:08:13.664768Z",
     "shell.execute_reply.started": "2021-06-01T23:06:05.076710Z"
    },
    "papermill": {
     "duration": 0.085277,
     "end_time": "2021-06-01T23:08:13.665561",
     "exception": false,
     "start_time": "2021-06-01T23:08:13.580284",
     "status": "completed"
    },
    "tags": []
   },
   "outputs": [
    {
     "data": {
      "text/html": [
       "<div>\n",
       "<style scoped>\n",
       "    .dataframe tbody tr th:only-of-type {\n",
       "        vertical-align: middle;\n",
       "    }\n",
       "\n",
       "    .dataframe tbody tr th {\n",
       "        vertical-align: top;\n",
       "    }\n",
       "\n",
       "    .dataframe thead th {\n",
       "        text-align: right;\n",
       "    }\n",
       "</style>\n",
       "<table border=\"1\" class=\"dataframe\">\n",
       "  <thead>\n",
       "    <tr style=\"text-align: right;\">\n",
       "      <th></th>\n",
       "      <th>Predictions of Artifical Neural Networks</th>\n",
       "      <th>Original reviews</th>\n",
       "    </tr>\n",
       "  </thead>\n",
       "  <tbody>\n",
       "    <tr>\n",
       "      <th>0</th>\n",
       "      <td>0.075767</td>\n",
       "      <td>0</td>\n",
       "    </tr>\n",
       "    <tr>\n",
       "      <th>1</th>\n",
       "      <td>0.069210</td>\n",
       "      <td>0</td>\n",
       "    </tr>\n",
       "    <tr>\n",
       "      <th>2</th>\n",
       "      <td>0.278203</td>\n",
       "      <td>0</td>\n",
       "    </tr>\n",
       "    <tr>\n",
       "      <th>3</th>\n",
       "      <td>0.000306</td>\n",
       "      <td>0</td>\n",
       "    </tr>\n",
       "    <tr>\n",
       "      <th>4</th>\n",
       "      <td>0.006481</td>\n",
       "      <td>0</td>\n",
       "    </tr>\n",
       "    <tr>\n",
       "      <th>...</th>\n",
       "      <td>...</td>\n",
       "      <td>...</td>\n",
       "    </tr>\n",
       "    <tr>\n",
       "      <th>195</th>\n",
       "      <td>0.055719</td>\n",
       "      <td>0</td>\n",
       "    </tr>\n",
       "    <tr>\n",
       "      <th>196</th>\n",
       "      <td>0.998800</td>\n",
       "      <td>1</td>\n",
       "    </tr>\n",
       "    <tr>\n",
       "      <th>197</th>\n",
       "      <td>0.971890</td>\n",
       "      <td>1</td>\n",
       "    </tr>\n",
       "    <tr>\n",
       "      <th>198</th>\n",
       "      <td>0.024439</td>\n",
       "      <td>0</td>\n",
       "    </tr>\n",
       "    <tr>\n",
       "      <th>199</th>\n",
       "      <td>0.784513</td>\n",
       "      <td>1</td>\n",
       "    </tr>\n",
       "  </tbody>\n",
       "</table>\n",
       "<p>200 rows × 2 columns</p>\n",
       "</div>"
      ],
      "text/plain": [
       "     Predictions of Artifical Neural Networks  Original reviews\n",
       "0                                    0.075767                 0\n",
       "1                                    0.069210                 0\n",
       "2                                    0.278203                 0\n",
       "3                                    0.000306                 0\n",
       "4                                    0.006481                 0\n",
       "..                                        ...               ...\n",
       "195                                  0.055719                 0\n",
       "196                                  0.998800                 1\n",
       "197                                  0.971890                 1\n",
       "198                                  0.024439                 0\n",
       "199                                  0.784513                 1\n",
       "\n",
       "[200 rows x 2 columns]"
      ]
     },
     "execution_count": 32,
     "metadata": {},
     "output_type": "execute_result"
    }
   ],
   "source": [
    "\n",
    "original_reviews = pd.DataFrame(y_test)\n",
    "comparison = pd.concat([predictions_df,original_reviews],axis=1,ignore_index=True)\n",
    "comparison.columns = [\"Predictions of Artifical Neural Networks\",\"Original reviews\"]\n",
    "comparison # Artifical Neural Networks outperforms the others with %80 accuracy in test set"
   ]
  },
  {
   "cell_type": "code",
   "execution_count": 33,
   "id": "ordinary-chain",
   "metadata": {
    "execution": {
     "iopub.execute_input": "2021-06-01T23:08:13.808817Z",
     "iopub.status.busy": "2021-06-01T23:08:13.807728Z",
     "iopub.status.idle": "2021-06-01T23:08:13.875752Z",
     "shell.execute_reply": "2021-06-01T23:08:13.876744Z",
     "shell.execute_reply.started": "2021-06-01T23:07:17.622452Z"
    },
    "papermill": {
     "duration": 0.144877,
     "end_time": "2021-06-01T23:08:13.876955",
     "exception": false,
     "start_time": "2021-06-01T23:08:13.732078",
     "status": "completed"
    },
    "tags": []
   },
   "outputs": [
    {
     "name": "stdout",
     "output_type": "stream",
     "text": [
      "[[0.39728662]]\n"
     ]
    }
   ],
   "source": [
    "new_review = 'I hate this restaurant so much'\n",
    "new_review = re.sub('[^a-zA-Z]', ' ', new_review)\n",
    "new_review = new_review.lower()\n",
    "new_review = new_review.split()\n",
    "ps = PorterStemmer()\n",
    "all_stopwords = stopwords.words('english')\n",
    "all_stopwords.remove('not')\n",
    "new_review = [ps.stem(word) for word in new_review if not word in set(all_stopwords)]\n",
    "new_review = ' '.join(new_review)\n",
    "new_corpus = [new_review]\n",
    "new_X_test = cv.transform(new_corpus).toarray()\n",
    "new_y_pred = ann.predict(new_X_test)\n",
    "print(new_y_pred) # This is a negative review according to our second model"
   ]
  }
 ],
 "metadata": {
  "kernelspec": {
   "display_name": "Python 3",
   "language": "python",
   "name": "python3"
  },
  "language_info": {
   "codemirror_mode": {
    "name": "ipython",
    "version": 3
   },
   "file_extension": ".py",
   "mimetype": "text/x-python",
   "name": "python",
   "nbconvert_exporter": "python",
   "pygments_lexer": "ipython3",
   "version": "3.7.10"
  },
  "papermill": {
   "default_parameters": {},
   "duration": 31.951992,
   "end_time": "2021-06-01T23:08:15.823456",
   "environment_variables": {},
   "exception": null,
   "input_path": "__notebook__.ipynb",
   "output_path": "__notebook__.ipynb",
   "parameters": {},
   "start_time": "2021-06-01T23:07:43.871464",
   "version": "2.3.3"
  }
 },
 "nbformat": 4,
 "nbformat_minor": 5
}
